{
  "nbformat": 4,
  "nbformat_minor": 0,
  "metadata": {
    "colab": {
      "name": "dog_app.ipynb",
      "version": "0.3.2",
      "provenance": [],
      "toc_visible": true,
      "include_colab_link": true
    },
    "kernelspec": {
      "name": "python3",
      "display_name": "Python 3"
    },
    "accelerator": "GPU"
  },
  "cells": [
    {
      "cell_type": "markdown",
      "metadata": {
        "id": "view-in-github",
        "colab_type": "text"
      },
      "source": [
        "<a href=\"https://colab.research.google.com/github/pratyakshajha/project-dog-classification/blob/master/dog_app.ipynb\" target=\"_parent\"><img src=\"https://colab.research.google.com/assets/colab-badge.svg\" alt=\"Open In Colab\"/></a>"
      ]
    },
    {
      "metadata": {
        "id": "oA6s-5hWv2sR",
        "colab_type": "text"
      },
      "cell_type": "markdown",
      "source": [
        "# Convolutional Neural Networks\n",
        "\n",
        "### The Road Ahead\n",
        "\n",
        "We break the notebook into separate steps.  Feel free to use the links below to navigate the notebook.\n",
        "\n",
        "* [Step 0](#step0): Import Datasets\n",
        "* [Step 1](#step1): Detect Humans\n",
        "* [Step 2](#step2): Detect Dogs\n",
        "* [Step 3](#step3): Create a CNN to Classify Dog Breeds (from Scratch)\n",
        "* [Step 4](#step4): Create a CNN to Classify Dog Breeds (using Transfer Learning)\n",
        "* [Step 5](#step5): Write your Algorithm\n",
        "* [Step 6](#step6): Test Your Algorithm\n",
        "\n",
        "---\n",
        "<a id='step0'></a>\n",
        "## Step 0: Import Datasets\n",
        "\n",
        "Make sure that the required human and dog datasets are downloaded :\n",
        "* [Dog dataset](https://s3-us-west-1.amazonaws.com/udacity-aind/dog-project/dogImages.zip). \n",
        "\n",
        "* [Human dataset](https://s3-us-west-1.amazonaws.com/udacity-aind/dog-project/lfw.zip).  \n",
        "\n",
        "*Note: for a Windows machine, use [7zip](http://www.7-zip.org/) to extract the folder.*\n",
        "\n",
        "In the code cells below, we download and unzip the required data files and, save the file paths for both the human (LFW) dataset and dog dataset in the numpy arrays `human_files` and `dog_files`."
      ]
    },
    {
      "metadata": {
        "id": "ns0T-eHkxk2O",
        "colab_type": "code",
        "colab": {
          "base_uri": "https://localhost:8080/",
          "height": 34
        },
        "outputId": "9ebb87df-c2f7-409e-b525-4a9c9a2bb152"
      },
      "cell_type": "code",
      "source": [
        "# download the required data files\n",
        "\n",
        "!wget -cq https://s3-us-west-1.amazonaws.com/udacity-aind/dog-project/dogImages.zip\n",
        "!wget -cq https://s3-us-west-1.amazonaws.com/udacity-aind/dog-project/lfw.zip\n",
        "!git clone https://github.com/pratyakshajha/project-dog-classification.git"
      ],
      "execution_count": 2,
      "outputs": [
        {
          "output_type": "stream",
          "text": [
            "fatal: destination path 'project-dog-classification' already exists and is not an empty directory.\n"
          ],
          "name": "stdout"
        }
      ]
    },
    {
      "metadata": {
        "id": "FnBDAm8K0fJm",
        "colab_type": "code",
        "outputId": "c65916cf-8bab-467d-bfaf-4cc305da7e2e",
        "colab": {
          "base_uri": "https://localhost:8080/",
          "height": 51
        }
      },
      "cell_type": "code",
      "source": [
        "# unzip the data files\n",
        "\n",
        "!rm -r dogImages || true\n",
        "!unzip -qq dogImages.zip\n",
        "\n",
        "!rm -r lfw || true\n",
        "!unzip -qq lfw.zip\n",
        "\n",
        "!rm -r __MACOSX || true"
      ],
      "execution_count": 3,
      "outputs": [
        {
          "output_type": "stream",
          "text": [
            "rm: cannot remove 'dogImages': No such file or directory\n",
            "rm: cannot remove 'lfw': No such file or directory\n"
          ],
          "name": "stdout"
        }
      ]
    },
    {
      "metadata": {
        "id": "X1rXsF2-YfnZ",
        "colab_type": "code",
        "colab": {}
      },
      "cell_type": "code",
      "source": [
        "# all imports\n",
        "\n",
        "import numpy as np\n",
        "from glob import glob\n",
        "import cv2                \n",
        "import matplotlib.pyplot as plt \n",
        "from tqdm import tqdm\n",
        "from PIL import Image\n",
        "from PIL import ImageFile\n",
        "import os\n",
        "from collections import OrderedDict\n",
        "import time\n",
        "import datetime\n",
        "\n",
        "import torch\n",
        "import torch.nn as nn\n",
        "import torch.nn.functional as F\n",
        "from torch.optim import lr_scheduler\n",
        "import torch.optim as optim\n",
        "\n",
        "import torchvision.transforms as transforms\n",
        "import torchvision.models as models\n",
        "from torchvision import datasets\n",
        "\n",
        "%matplotlib inline                               "
      ],
      "execution_count": 0,
      "outputs": []
    },
    {
      "metadata": {
        "id": "2toUJ8KPv2sU",
        "colab_type": "code",
        "outputId": "02ad3b36-8eea-4912-a126-035c941f9c9a",
        "colab": {
          "base_uri": "https://localhost:8080/",
          "height": 51
        }
      },
      "cell_type": "code",
      "source": [
        "# load filenames for human and dog images\n",
        "human_files = np.array(glob(\"lfw/*/*\"))\n",
        "dog_files = np.array(glob(\"dogImages/*/*/*\"))\n",
        "\n",
        "# print number of images in each dataset\n",
        "print('There are %d total human images.' % len(human_files))\n",
        "print('There are %d total dog images.' % len(dog_files))"
      ],
      "execution_count": 5,
      "outputs": [
        {
          "output_type": "stream",
          "text": [
            "There are 13233 total human images.\n",
            "There are 8351 total dog images.\n"
          ],
          "name": "stdout"
        }
      ]
    },
    {
      "metadata": {
        "id": "dQoamwswv2sb",
        "colab_type": "text"
      },
      "cell_type": "markdown",
      "source": [
        "<a id='step1'></a>\n",
        "## Step 1: Detect Humans\n",
        "\n",
        "In this section, OpenCV's implementation of [Haar feature-based cascade classifiers](http://docs.opencv.org/trunk/d7/d8b/tutorial_py_face_detection.html) to detect human faces in images is used.  \n",
        "\n",
        "OpenCV provides many pre-trained face detectors, stored as XML files on [github](https://github.com/opencv/opencv/tree/master/data/haarcascades).  We have downloaded one of these detectors and stored it in the `haarcascades` directory.  In the next code cell, we can see how to use this detector to find human faces in a sample image."
      ]
    },
    {
      "metadata": {
        "id": "SCpiy6-0v2sc",
        "colab_type": "code",
        "outputId": "3adcbc28-a17d-4628-e7ef-e6c80dd1006f",
        "colab": {
          "base_uri": "https://localhost:8080/",
          "height": 286
        }
      },
      "cell_type": "code",
      "source": [
        "# extract pre-trained face detector\n",
        "face_cascade = cv2.CascadeClassifier('project-dog-classification/haarcascades/haarcascade_frontalface_alt.xml')\n",
        "\n",
        "# load color (BGR) image\n",
        "img = cv2.imread(human_files[0])\n",
        "# convert BGR image to grayscale\n",
        "gray = cv2.cvtColor(img, cv2.COLOR_BGR2GRAY)\n",
        "\n",
        "# find faces in image\n",
        "faces = face_cascade.detectMultiScale(gray)\n",
        "\n",
        "# print number of faces detected in the image\n",
        "print('Number of faces detected:', len(faces))\n",
        "\n",
        "# get bounding box for each detected face\n",
        "for (x,y,w,h) in faces:\n",
        "    # add bounding box to color image\n",
        "    cv2.rectangle(img,(x,y),(x+w,y+h),(255,0,0),2)\n",
        "    \n",
        "# convert BGR image to RGB for plotting\n",
        "cv_rgb = cv2.cvtColor(img, cv2.COLOR_BGR2RGB)\n",
        "\n",
        "# display the image, along with bounding box\n",
        "plt.imshow(cv_rgb)\n",
        "plt.show()"
      ],
      "execution_count": 6,
      "outputs": [
        {
          "output_type": "stream",
          "text": [
            "Number of faces detected: 1\n"
          ],
          "name": "stdout"
        },
        {
          "output_type": "display_data",
          "data": {
            "image/png": "[encoded data removed]",
            "text/plain": [
              "<Figure size 432x288 with 1 Axes>"
            ]
          },
          "metadata": {
            "tags": []
          }
        }
      ]
    },
    {
      "metadata": {
        "id": "2aGg09YQv2sh",
        "colab_type": "text"
      },
      "cell_type": "markdown",
      "source": [
        "Before using any of the face detectors, it is standard procedure to convert the images to grayscale.  The `detectMultiScale` function executes the classifier stored in `face_cascade` and takes the grayscale image as a parameter.  \n",
        "\n",
        "In the above code, `faces` is a numpy array of detected faces, where each row corresponds to a detected face.  Each detected face is a 1D array with four entries that specifies the bounding box of the detected face.  The first two entries in the array (extracted in the above code as `x` and `y`) specify the horizontal and vertical positions of the top left corner of the bounding box.  The last two entries in the array (extracted here as `w` and `h`) specify the width and height of the box.\n",
        "\n",
        "### Write a Human Face Detector\n",
        "\n",
        "We can use this procedure to write a function that returns `True` if a human face is detected in an image and `False` otherwise.  This function, aptly named `face_detector`, takes a string-valued file path to an image as input and appears in the code block below."
      ]
    },
    {
      "metadata": {
        "id": "cE_Cb0kDv2si",
        "colab_type": "code",
        "colab": {}
      },
      "cell_type": "code",
      "source": [
        "# returns \"True\" if face is detected in image stored at img_path\n",
        "def face_detector(img_path):\n",
        "    img = cv2.imread(img_path)\n",
        "    gray = cv2.cvtColor(img, cv2.COLOR_BGR2GRAY)\n",
        "    faces = face_cascade.detectMultiScale(gray)\n",
        "    return len(faces) > 0"
      ],
      "execution_count": 0,
      "outputs": []
    },
    {
      "metadata": {
        "id": "htYWf7kBv2sn",
        "colab_type": "text"
      },
      "cell_type": "markdown",
      "source": [
        "### Assessing the Human Face Detector\n",
        "\n",
        "Ideally, we would like 100% of human images with a detected face and 0% of dog images with a detected face.  Our algorithm falls short of this goal, but still gives acceptable performance.  We extract the file paths for the first 100 images from each of the datasets and store them in the numpy arrays `human_files_short` and `dog_files_short`."
      ]
    },
    {
      "metadata": {
        "id": "pLWB3M1pv2sq",
        "colab_type": "code",
        "outputId": "dd7a9aeb-17f5-4b3c-ba9f-284726f3f418",
        "colab": {
          "base_uri": "https://localhost:8080/",
          "height": 102
        }
      },
      "cell_type": "code",
      "source": [
        "human_files_short = human_files[:100]\n",
        "dog_files_short = dog_files[:100]\n",
        "\n",
        "count = []\n",
        "temp = 0\n",
        "for file in tqdm(human_files_short):\n",
        "  if face_detector(file):\n",
        "    temp += 1\n",
        "count.append(temp)    \n",
        "\n",
        "temp = 0\n",
        "for file in tqdm(dog_files_short):\n",
        "  if face_detector(file):\n",
        "    temp += 1\n",
        "count.append(temp)   \n",
        "    \n",
        "print('\\nPercentage of human face detected in the first 100 images:\\nhuman_files:{}\\tdog_files:{}'.format(count[0], count[1]))"
      ],
      "execution_count": 8,
      "outputs": [
        {
          "output_type": "stream",
          "text": [
            "100%|██████████| 100/100 [00:04<00:00, 22.03it/s]\n",
            "100%|██████████| 100/100 [00:25<00:00,  4.72it/s]"
          ],
          "name": "stderr"
        },
        {
          "output_type": "stream",
          "text": [
            "\n",
            "Percentage of human face detected in the first 100 images:\n",
            "human_files:99\tdog_files:11\n"
          ],
          "name": "stdout"
        },
        {
          "output_type": "stream",
          "text": [
            "\n"
          ],
          "name": "stderr"
        }
      ]
    },
    {
      "metadata": {
        "id": "gNE7WTkov2s4",
        "colab_type": "text"
      },
      "cell_type": "markdown",
      "source": [
        "---\n",
        "<a id='step2'></a>\n",
        "## Step 2: Detect Dogs\n",
        "\n",
        "In this section, we use a [pre-trained model](http://pytorch.org/docs/master/torchvision/models.html) to detect dogs in images.  \n",
        "\n",
        "### Obtain Pre-trained VGG-16 Model\n",
        "\n",
        "The code cell below downloads the VGG-16 model, along with weights that have been trained on [ImageNet](http://www.image-net.org/), a very large, very popular dataset used for image classification and other vision tasks.  ImageNet contains over 10 million URLs, each linking to an image containing an object from one of [1000 categories](https://gist.github.com/yrevar/942d3a0ac09ec9e5eb3a).  "
      ]
    },
    {
      "metadata": {
        "id": "1q03vpysv2s5",
        "colab_type": "code",
        "colab": {
          "base_uri": "https://localhost:8080/",
          "height": 51
        },
        "outputId": "91e8fc23-39f4-4292-99a5-cbba0b1bc06b"
      },
      "cell_type": "code",
      "source": [
        "# define VGG16 model\n",
        "VGG16 = models.vgg16(pretrained=True)\n",
        "\n",
        "# check if CUDA is available\n",
        "use_cuda = torch.cuda.is_available()\n",
        "\n",
        "# move model to GPU if CUDA is available\n",
        "if use_cuda:\n",
        "    VGG16 = VGG16.cuda()"
      ],
      "execution_count": 9,
      "outputs": [
        {
          "output_type": "stream",
          "text": [
            "Downloading: \"https://download.pytorch.org/models/vgg16-397923af.pth\" to /root/.torch/models/vgg16-397923af.pth\n",
            "553433881it [00:05, 94219838.26it/s]\n"
          ],
          "name": "stderr"
        }
      ]
    },
    {
      "metadata": {
        "id": "rhxA-shiv2s9",
        "colab_type": "text"
      },
      "cell_type": "markdown",
      "source": [
        "Given an image, this pre-trained VGG-16 model returns a prediction (derived from the 1000 possible categories in ImageNet) for the object that is contained in the image."
      ]
    },
    {
      "metadata": {
        "id": "dRRubqgHv2s-",
        "colab_type": "text"
      },
      "cell_type": "markdown",
      "source": [
        "### Making Predictions with a Pre-trained Model\n",
        "\n",
        "In the next code cell, the function accepts a path to an image (such as `'dogImages/train/001.Affenpinscher/Affenpinscher_00001.jpg'`) as input and returns the index corresponding to the ImageNet class that is predicted by the pre-trained VGG-16 model.  The output should always be an integer between 0 and 999, inclusive."
      ]
    },
    {
      "metadata": {
        "id": "lF6tVv-UtCgI",
        "colab_type": "code",
        "colab": {}
      },
      "cell_type": "code",
      "source": [
        "def process_image(image):\n",
        "    ''' \n",
        "    Scales, crops, and normalizes a PIL image for a PyTorch       \n",
        "    model, returns an Numpy array\n",
        "    '''\n",
        "    # Open the image\n",
        "    from PIL import Image\n",
        "    img = Image.open(image)\n",
        "    # Resize\n",
        "    if img.size[0] > img.size[1]:\n",
        "        img.thumbnail((10000, 256))\n",
        "    else:\n",
        "        img.thumbnail((256, 10000))\n",
        "    # Crop \n",
        "    left_margin = (img.width-224)/2\n",
        "    bottom_margin = (img.height-224)/2\n",
        "    right_margin = left_margin + 224\n",
        "    top_margin = bottom_margin + 224\n",
        "    img = img.crop((left_margin, bottom_margin, right_margin,   \n",
        "                      top_margin))\n",
        "    # Normalize\n",
        "    img = np.array(img)/255\n",
        "    mean = np.array([0.485, 0.456, 0.406]) \n",
        "    std = np.array([0.229, 0.224, 0.225]) \n",
        "    img = (img - mean)/std\n",
        "    \n",
        "    # Move color channels to first dimension as expected by PyTorch\n",
        "    img = img.transpose((2, 0, 1))    \n",
        "    \n",
        "    return img"
      ],
      "execution_count": 0,
      "outputs": []
    },
    {
      "metadata": {
        "id": "4H-l2OC6v2s_",
        "colab_type": "code",
        "colab": {}
      },
      "cell_type": "code",
      "source": [
        "# Set PIL to be tolerant of image files that are truncated.\n",
        "ImageFile.LOAD_TRUNCATED_IMAGES = True\n",
        "\n",
        "def VGG16_predict(img_path):\n",
        "    '''\n",
        "    Use pre-trained VGG-16 model to obtain index corresponding to \n",
        "    predicted ImageNet class for image at specified path\n",
        "    \n",
        "    Args:\n",
        "        img_path: path to an image\n",
        "        \n",
        "    Returns:\n",
        "        Index corresponding to VGG-16 model's prediction\n",
        "    '''    \n",
        "    ## Load and pre-process an image from the given img_path\n",
        "    ## Return the *index* of the predicted class for that image\n",
        "    \n",
        "    # Process image\n",
        "    img = process_image(img_path) \n",
        "    img = torch.from_numpy(img).type(torch.FloatTensor) \n",
        "    img.unsqueeze_(0)\n",
        "    img = img.cuda()\n",
        "\n",
        "    # Predict top label\n",
        "    probs = torch.exp(VGG16.forward(img)) \n",
        "    top_prob, top_lab = probs.topk(1)     \n",
        "    \n",
        "    return top_lab # predicted class index"
      ],
      "execution_count": 0,
      "outputs": []
    },
    {
      "metadata": {
        "id": "LrBzeq_uv2tC",
        "colab_type": "text"
      },
      "cell_type": "markdown",
      "source": [
        "### Writing a Dog Detector\n",
        "\n",
        "While looking at the [dictionary](https://gist.github.com/yrevar/942d3a0ac09ec9e5eb3a), notice that the categories corresponding to dogs appear in an uninterrupted sequence and correspond to dictionary keys 151-268, inclusive, to include all categories from `'Chihuahua'` to `'Mexican hairless'`.  Thus, in order to check to see if an image is predicted to contain a dog by the pre-trained VGG-16 model, we need only check if the pre-trained model predicts an index between 151 and 268 (inclusive).\n",
        "\n",
        "Use these ideas the `dog_detector` function below returns `True` if a dog is detected in an image (and `False` if not)."
      ]
    },
    {
      "metadata": {
        "colab_type": "code",
        "outputId": "62dce58d-ce93-4af0-ebf3-2ff686ba1f33",
        "id": "fPyrXqrIx8Tk",
        "colab": {
          "base_uri": "https://localhost:8080/",
          "height": 34
        }
      },
      "cell_type": "code",
      "source": [
        "int(VGG16_predict('dogImages/train/001.Affenpinscher/Affenpinscher_00001.jpg'))"
      ],
      "execution_count": 13,
      "outputs": [
        {
          "output_type": "execute_result",
          "data": {
            "text/plain": [
              "252"
            ]
          },
          "metadata": {
            "tags": []
          },
          "execution_count": 13
        }
      ]
    },
    {
      "metadata": {
        "id": "0XkXttCzv2tD",
        "colab_type": "code",
        "colab": {}
      },
      "cell_type": "code",
      "source": [
        "### returns \"True\" if a dog is detected in the image stored at img_path\n",
        "def dog_detector(img_path):\n",
        "    pred = int(VGG16_predict(img_path))\n",
        "    if 150 < pred <269:\n",
        "      return True\n",
        "    else:    \n",
        "      return False "
      ],
      "execution_count": 0,
      "outputs": []
    },
    {
      "metadata": {
        "id": "MiJ9f9E8v2tE",
        "colab_type": "text"
      },
      "cell_type": "markdown",
      "source": [
        "### Assessing the Dog Detector"
      ]
    },
    {
      "metadata": {
        "id": "uXk5D382v2tH",
        "colab_type": "code",
        "outputId": "c9900485-88ba-4b96-f5a9-7fa8627e7e1b",
        "colab": {
          "base_uri": "https://localhost:8080/",
          "height": 102
        }
      },
      "cell_type": "code",
      "source": [
        "### Test the performance of the dog_detector function\n",
        "### on the images in human_files_short and dog_files_short.\n",
        "human_files_short = human_files[:100]\n",
        "dog_files_short = dog_files[:100]\n",
        "\n",
        "count = []\n",
        "temp = 0\n",
        "for file in tqdm(human_files_short):\n",
        "  if dog_detector(file):\n",
        "    temp += 1\n",
        "count.append(temp)    \n",
        "\n",
        "temp = 0\n",
        "for file in tqdm(dog_files_short):\n",
        "  if dog_detector(file):\n",
        "    temp += 1\n",
        "count.append(temp)   \n",
        "    \n",
        "print('\\nPercentage of dogs detected in the first 100 images:\\nhuman_files:{}\\tdog_files:{}'.format(count[0], count[1]))"
      ],
      "execution_count": 14,
      "outputs": [
        {
          "output_type": "stream",
          "text": [
            "100%|██████████| 100/100 [00:03<00:00, 30.09it/s]\n",
            "100%|██████████| 100/100 [00:03<00:00, 25.43it/s]"
          ],
          "name": "stderr"
        },
        {
          "output_type": "stream",
          "text": [
            "\n",
            "Percentage of dogs detected in the first 100 images:\n",
            "human_files:0\tdog_files:99\n"
          ],
          "name": "stdout"
        },
        {
          "output_type": "stream",
          "text": [
            "\n"
          ],
          "name": "stderr"
        }
      ]
    },
    {
      "metadata": {
        "id": "58OlsveIv2tO",
        "colab_type": "text"
      },
      "cell_type": "markdown",
      "source": [
        "---\n",
        "<a id='step3'></a>\n",
        "## Step 3: Create a CNN to Classify Dog Breeds (from Scratch)\n",
        "\n",
        "Now that we have functions for detecting humans and dogs in images, we need a way to predict breed from images.  In this step, I create a CNN that classifies dog breeds and try to attain a test accuracy of at least 10%. \n",
        "\n",
        "The task of assigning breed to dogs from images is considered exceptionally challenging.  To see why, consider that *even a human* would have trouble distinguishing between a Brittany and a Welsh Springer Spaniel.  \n",
        "\n",
        "Brittany | Welsh Springer Spaniel\n",
        "- | - \n",
        "<img src=\"https://github.com/pratyakshajha/deep-learning-v2-pytorch/blob/master/project-dog-classification/images/Brittany_02625.jpg?raw=1\" width=\"100\"> | <img src=\"https://github.com/pratyakshajha/deep-learning-v2-pytorch/blob/master/project-dog-classification/images/Welsh_springer_spaniel_08203.jpg?raw=1\" width=\"200\">\n",
        "\n",
        "It is not difficult to find other dog breed pairs with minimal inter-class variation (for instance, Curly-Coated Retrievers and American Water Spaniels).  \n",
        "\n",
        "Curly-Coated Retriever | American Water Spaniel\n",
        "- | -\n",
        "<img src=\"https://github.com/pratyakshajha/deep-learning-v2-pytorch/blob/master/project-dog-classification/images/Curly-coated_retriever_03896.jpg?raw=1\" width=\"200\"> | <img src=\"https://github.com/pratyakshajha/deep-learning-v2-pytorch/blob/master/project-dog-classification/images/American_water_spaniel_00648.jpg?raw=1\" width=\"200\">\n",
        "\n",
        "\n",
        "Likewise, recall that labradors come in yellow, chocolate, and black. The vision-based algorithm will have to conquer this high intra-class variation to determine how to classify all of these different shades as the same breed.  \n",
        "\n",
        "Yellow Labrador | Chocolate Labrador | Black Labrador\n",
        "- | -\n",
        "<img src=\"https://github.com/pratyakshajha/deep-learning-v2-pytorch/blob/master/project-dog-classification/images/Labrador_retriever_06457.jpg?raw=1\" width=\"150\"> | <img src=\"https://github.com/pratyakshajha/deep-learning-v2-pytorch/blob/master/project-dog-classification/images/Labrador_retriever_06455.jpg?raw=1\" width=\"240\"> | <img src=\"https://github.com/pratyakshajha/deep-learning-v2-pytorch/blob/master/project-dog-classification/images/Labrador_retriever_06449.jpg?raw=1\" width=\"220\">\n",
        "\n",
        "The random chance presents an exceptionally low bar: setting aside the fact that the classes are slightly imabalanced, a random guess will provide a correct answer roughly 1 in 133 times, which corresponds to an accuracy of less than 1%.  "
      ]
    },
    {
      "metadata": {
        "id": "6EYXtmsGaPit",
        "colab_type": "text"
      },
      "cell_type": "markdown",
      "source": [
        "### Specify Data Loaders for the Dog Dataset\n",
        "\n",
        "For preprocessing the data, several functions from `torch.transforms` module are used. The images are cropped and normalised according to imagenet dataset. This is necessary as the pre-trained models need input images to be of same dimensions and similar distribution as the images it was trained on.  The images were resized to be 224 by 224 pixels. Mean and standard deviation of `[0.485, 0.456, 0.406]` and `[0.229, 0.224, 0.225]` are applied.\n",
        "\n",
        "The training data is also augmented, while the validation and testing data is only adjusted according to imagenet data. The augmentation that is added is of the form:\n",
        "\n",
        "\n",
        "*   Rotation\n",
        "*   Horizontally and Vertically flipped\n",
        "*   Variation in brightness, contrast and saturation"
      ]
    },
    {
      "metadata": {
        "id": "ap2vyzAJv2tO",
        "colab_type": "code",
        "colab": {}
      },
      "cell_type": "code",
      "source": [
        "### Write data loaders for training, validation, and test sets\n",
        "## Specify appropriate transforms, and batch_sizes\n",
        "# Transforms for the training and validation sets\n",
        "\n",
        "data_transforms = {\n",
        "    'train': transforms.Compose([        \n",
        "        transforms.ColorJitter(brightness=.2, contrast=.2, saturation=.2),\n",
        "        transforms.RandomRotation(45),\n",
        "        transforms.RandomResizedCrop(224),\n",
        "        transforms.RandomHorizontalFlip(),\n",
        "        transforms.RandomVerticalFlip(),\n",
        "        transforms.ToTensor(),\n",
        "        transforms.Normalize([0.485, 0.456, 0.406], \n",
        "                             [0.229, 0.224, 0.225])\n",
        "    ]),\n",
        "    'valid': transforms.Compose([\n",
        "        transforms.Resize(256),\n",
        "        transforms.CenterCrop(224),\n",
        "        transforms.ToTensor(),\n",
        "        transforms.Normalize([0.485, 0.456, 0.406], \n",
        "                             [0.229, 0.224, 0.225])\n",
        "    ]),\n",
        "    'test': transforms.Compose([\n",
        "        transforms.Resize(256),\n",
        "        transforms.CenterCrop(224),\n",
        "        transforms.ToTensor(),\n",
        "        transforms.Normalize([0.485, 0.456, 0.406], \n",
        "                             [0.229, 0.224, 0.225])\n",
        "    ])\n",
        "}"
      ],
      "execution_count": 0,
      "outputs": []
    },
    {
      "metadata": {
        "id": "j_6Wrf__zEmu",
        "colab_type": "code",
        "colab": {}
      },
      "cell_type": "code",
      "source": [
        "dirs = {'train': 'dogImages/train', \n",
        "        'valid': 'dogImages/valid',\n",
        "        'test': 'dogImages/test'}\n",
        "\n",
        "image_datasets = {x: datasets.ImageFolder(dirs[x],   transform=data_transforms[x]) for x in ['train', 'valid', 'test']}\n",
        "loaders_scratch = {x: torch.utils.data.DataLoader(image_datasets[x], batch_size=64, shuffle=True) for x in ['train', 'valid', 'test']}\n",
        "dataset_sizes = {x: len(image_datasets[x]) \n",
        "                              for x in ['train', 'valid', 'test']}\n",
        "\n",
        "class_names = image_datasets['train'].classes"
      ],
      "execution_count": 0,
      "outputs": []
    },
    {
      "metadata": {
        "id": "t6Kpm-h9v2tU",
        "colab_type": "text"
      },
      "cell_type": "markdown",
      "source": [
        "### Model Architecture\n",
        "\n",
        "Create a CNN to classify dog breed. I tried to replicate a smaller architecture similar to VGG model's architecture. The A configuration is used here. As the the depth of this configuration was too large for my colaboratory notebook to handle, I reduced the number of convolution filters in each layer. \n",
        "\n",
        "*VGG architecture:*\n",
        "\n",
        "<img src=\"https://cdn-images-1.medium.com/max/1600/0*HREIJ1hjF7z4y9Dd.jpg\" width=\"400\">\n",
        "\n",
        "\n",
        "*My architecture*\n",
        "\n",
        "\n",
        "| Input Image        |\n",
        "|-----------------------|\n",
        "| (3x3) Convolutions - 16 |\n",
        "| Relu Activation     |\n",
        "| (2x2) Max Pooling     |\n",
        "| (3x3) Convolutions  - 16|\n",
        "| Relu Activation     |\n",
        "| (2x2) Max Pooling     |\n",
        "| (3x3) Convolutions - 32 |\n",
        "| Relu Activation     |\n",
        "| (2x2) Max Pooling     |\n",
        "| (3x3) Convolutions - 64|\n",
        "| Relu Activation     |\n",
        "| (2x2) Max Pooling     |\n",
        "| FC layer 1 - 4096  |\n",
        "| FC layer 2  - 4096 |\n",
        "| FC Layer 3  - 133  |\n",
        "| Softmax  |\n",
        "\n",
        "- Each convolution layer has filter size = (3x3), stride = (1x1) and padding = (1x1). The resulting tensors are of same size as that of input tensors. Multiple (3x3) convolution filters in a sequence work as higher order filters. At later layers, they help to indentify higher level features.\n",
        "- Each convolution layer is followed by Relu activation. This adds non-linearity and helps in speeding up training.\n",
        "- Relu activation is followed by Max Pool layer with kernel size = 2, stride = 2 and zero padding. This reduces the size of tensor by half. \n",
        "- Three fully connected layers are added for final classification along with dropout. Dropout adds some regularization in the network. \n",
        "- While training, Cross entropy loss is used. As this is a classification task, cross entropy works well as it fits according to the probability distribution of the data. Adam opimizer gives one of the best results as compared to other optimizers. Learning rate schedular is also added.  "
      ]
    },
    {
      "metadata": {
        "id": "ut7qPb_mv2tW",
        "colab_type": "code",
        "outputId": "d110d3b6-1273-402e-9d78-7623cb1c4447",
        "colab": {
          "base_uri": "https://localhost:8080/",
          "height": 204
        }
      },
      "cell_type": "code",
      "source": [
        "# define the CNN architecture\n",
        "class Net(nn.Module):\n",
        "    ### choose an architecture, and complete the class\n",
        "    def __init__(self):\n",
        "        super(Net, self).__init__()\n",
        "        ## Define layers of a CNN\n",
        "        # convolutional layer (sees 224x224x3 image tensor)\n",
        "        self.conv1 = nn.Conv2d(3, 16, 3, padding=1)\n",
        "        # convolutional layer (sees 112x112x112 tensor)\n",
        "        self.conv2 = nn.Conv2d(16, 16, 3, padding=1)\n",
        "        # convolutional layer (sees 56x56x56 tensor)\n",
        "        self.conv3 = nn.Conv2d(16, 32, 3, padding=1)\n",
        "        # convolutional layer (sees 28x28x28 tensor)\n",
        "        self.conv4 = nn.Conv2d(32, 64, 3, padding=1)\n",
        "        # max pooling layer\n",
        "        self.pool = nn.MaxPool2d(2, 2)\n",
        "        # linear layer (512 * 14 * 14 -> 4096)\n",
        "        self.fc1 = nn.Linear(64*14*14, 4096)\n",
        "        # linear layer (4096 -> 4096)\n",
        "        self.fc2 = nn.Linear(4096, 4096)\n",
        "        # linear layer (4096 -> number of classes)\n",
        "        self.fc3 = nn.Linear(4096, len(class_names))\n",
        "        # dropout layer (p=0.5)\n",
        "        self.dropout = nn.Dropout(0.5)        \n",
        "    \n",
        "    def forward(self, x):\n",
        "        ## Define forward behavior\n",
        "        # add sequence of convolutional and max pooling layers        \n",
        "        x = self.pool(F.relu(self.conv1(x)))       \n",
        "        x = self.pool(F.relu(self.conv2(x)))\n",
        "        x = self.pool(F.relu(self.conv3(x)))\n",
        "        x = self.pool(F.relu(self.conv4(x)))\n",
        "        # flatten image input, size is depth of image in previous maxpool*depth of convolution\n",
        "        x = x.view(-1, 64*14*14)\n",
        "        # add dropout layer\n",
        "        x = self.dropout(x)\n",
        "        # add 1st hidden layer, with relu activation function\n",
        "        x = F.relu(self.fc1(x))\n",
        "        # add dropout layer\n",
        "        x = self.dropout(x)\n",
        "        # add 2nd hidden layer, with relu activation function\n",
        "        x = F.relu(self.fc2(x))\n",
        "        # add dropout layer\n",
        "        x = self.dropout(x)\n",
        "        # add 2nd hidden layer, with relu activation function\n",
        "        x = self.fc3(x)\n",
        "        return x\n",
        "\n",
        "# instantiate the CNN\n",
        "model_scratch = Net()\n",
        "print(model_scratch)\n",
        "\n",
        "# move tensors to GPU if CUDA is available\n",
        "if use_cuda:\n",
        "    model_scratch.cuda()"
      ],
      "execution_count": 21,
      "outputs": [
        {
          "output_type": "stream",
          "text": [
            "Net(\n",
            "  (conv1): Conv2d(3, 16, kernel_size=(3, 3), stride=(1, 1), padding=(1, 1))\n",
            "  (conv2): Conv2d(16, 16, kernel_size=(3, 3), stride=(1, 1), padding=(1, 1))\n",
            "  (conv3): Conv2d(16, 32, kernel_size=(3, 3), stride=(1, 1), padding=(1, 1))\n",
            "  (conv4): Conv2d(32, 64, kernel_size=(3, 3), stride=(1, 1), padding=(1, 1))\n",
            "  (pool): MaxPool2d(kernel_size=2, stride=2, padding=0, dilation=1, ceil_mode=False)\n",
            "  (fc1): Linear(in_features=12544, out_features=4096, bias=True)\n",
            "  (fc2): Linear(in_features=4096, out_features=4096, bias=True)\n",
            "  (fc3): Linear(in_features=4096, out_features=133, bias=True)\n",
            "  (dropout): Dropout(p=0.5)\n",
            ")\n"
          ],
          "name": "stdout"
        }
      ]
    },
    {
      "metadata": {
        "id": "AP5QPrvjv2tj",
        "colab_type": "text"
      },
      "cell_type": "markdown",
      "source": [
        "### Specify Loss Function and Optimizer\n",
        "\n",
        "Use the next code cell to specifies a [loss function](http://pytorch.org/docs/stable/nn.html#loss-functions) and [optimizer](http://pytorch.org/docs/stable/optim.html).  Save the chosen loss function as `criterion_scratch`, and the optimizer as `optimizer_scratch` below.\n"
      ]
    },
    {
      "metadata": {
        "id": "7Gp-OcGGv2tj",
        "colab_type": "code",
        "colab": {}
      },
      "cell_type": "code",
      "source": [
        "### select loss function\n",
        "criterion_scratch = nn.CrossEntropyLoss()\n",
        "\n",
        "### select optimizer\n",
        "optimizer_scratch = optim.Adam(model_scratch.parameters(), lr=0.0001)\n",
        "\n",
        "# Decay LR by a factor of 0.1 every 4 epochs\n",
        "scheduler_scratch = lr_scheduler.StepLR(optimizer_scratch, step_size = 8, gamma=0.1)"
      ],
      "execution_count": 0,
      "outputs": []
    },
    {
      "metadata": {
        "id": "U7wY_21mv2tl",
        "colab_type": "text"
      },
      "cell_type": "markdown",
      "source": [
        "### Train and Validate the Model\n",
        "\n",
        "Train and validate your model in the code cell below.  [Save the final model parameters](http://pytorch.org/docs/master/notes/serialization.html) at filepath `'model_scratch.pt'`."
      ]
    },
    {
      "metadata": {
        "colab_type": "code",
        "id": "w2ifvK9EdG1w",
        "colab": {}
      },
      "cell_type": "code",
      "source": [
        "all_losses = {'epoch': [],\n",
        "              'train': [],\n",
        "              'valid': [],\n",
        "              'test': []\n",
        "             }\n",
        "\n",
        "all_accuracies = {'epoch': [],\n",
        "                  'train': [],\n",
        "                  'valid': [],\n",
        "                  'test': []\n",
        "             }"
      ],
      "execution_count": 0,
      "outputs": []
    },
    {
      "metadata": {
        "colab_type": "code",
        "id": "I3PkoO9HdG1z",
        "colab": {}
      },
      "cell_type": "code",
      "source": [
        "def print_current_time():\n",
        "  # Display time in IST(UTC+5:30)\n",
        "  hours, mins, secs = str(datetime.datetime.now().time())[:-8].split(':')\n",
        "  hours, mins, secs = int(hours), int(mins), int(secs)\n",
        "\n",
        "  if (mins+30)<60:\n",
        "    hours = hours+5 \n",
        "    mins=mins+30 \n",
        "  else:\n",
        "    hours = hours+6 \n",
        "    mins = (mins+30) - 60\n",
        "    \n",
        "  print('Current time - {}:{}:{}'.format(hours, mins, secs)) "
      ],
      "execution_count": 0,
      "outputs": []
    },
    {
      "metadata": {
        "id": "dNNiYSCMv2tm",
        "colab_type": "code",
        "outputId": "c86c8844-7f2f-4707-d4d0-2bad9059e61f",
        "colab": {
          "base_uri": "https://localhost:8080/",
          "height": 2278
        }
      },
      "cell_type": "code",
      "source": [
        "# the following import is required for training to be robust to truncated images\n",
        "ImageFile.LOAD_TRUNCATED_IMAGES = True\n",
        "\n",
        "def train(n_epochs, loaders, model, optimizer, criterion, use_cuda, save_path):\n",
        "    \"\"\"returns trained model\"\"\"\n",
        "    # initialize tracker for minimum validation loss\n",
        "    valid_loss_min = np.Inf \n",
        "    print_current_time()       \n",
        "    \n",
        "    for epoch in range(1, n_epochs+1):\n",
        "        all_losses['epoch'].append(epoch)\n",
        "        all_accuracies['epoch'].append(epoch)\n",
        "        start_time = time.time()\n",
        "        print('-'*11)\n",
        "        print('Epoch: {}'.format(epoch))\n",
        "       \n",
        "        # initialize variables to monitor training and validation loss\n",
        "        train_loss = 0.0\n",
        "        valid_loss = 0.0\n",
        "        train_running_corrects = 0\n",
        "        valid_running_corrects = 0\n",
        "        \n",
        "        ###################\n",
        "        # train the model #\n",
        "        ###################\n",
        "        model.train()\n",
        "        for batch_idx, (data, target) in enumerate(loaders_scratch['train']):\n",
        "            # move to GPU\n",
        "            if use_cuda:\n",
        "                data, target = data.cuda(), target.cuda()\n",
        "            ## find the loss and update the model parameters accordingly\n",
        "            ## record the average training loss, using something like\n",
        "            ## train_loss = train_loss + ((1 / (batch_idx + 1)) * (loss.data - train_loss))\n",
        "                                \n",
        "            # clear the gradients of all optimized variables\n",
        "            optimizer_scratch.zero_grad()\n",
        "            # forward pass: compute predicted outputs by passing inputs to the model\n",
        "            outputs = model_scratch(data)\n",
        "            _, preds = torch.max(outputs, 1)\n",
        "            # calculate the batch loss\n",
        "            loss = criterion_scratch(outputs, target)\n",
        "            # backward pass: compute gradient of the loss with respect to model parameters\n",
        "            loss.backward()\n",
        "            # perform a single optimization step (parameter update)\n",
        "            optimizer_scratch.step()\n",
        "            # update training loss\n",
        "            train_loss += loss.item()*data.size(0)\n",
        "            train_running_corrects += torch.sum(preds == target.data)   \n",
        "            \n",
        "        ######################    \n",
        "        # validate the model #\n",
        "        ######################\n",
        "        model.eval()\n",
        "        for batch_idx, (data, target) in enumerate(loaders_scratch['valid']):\n",
        "            # move to GPU\n",
        "            if use_cuda:\n",
        "                data, target = data.cuda(), target.cuda()\n",
        "            ## update the average validation loss\n",
        "            # forward pass: compute predicted outputs by passing inputs to the model\n",
        "            outputs = model_scratch(data)\n",
        "            _, preds = torch.max(outputs, 1)\n",
        "            # calculate the batch loss\n",
        "            loss = criterion_scratch(outputs, target)\n",
        "            # update average validation loss \n",
        "            valid_loss += loss.item()*data.size(0)\n",
        "            valid_running_corrects += torch.sum(preds == target.data)\n",
        "            \n",
        "        # calculate average losses and accuracies\n",
        "        train_loss = train_loss/len(loaders_scratch['train'].dataset)\n",
        "        all_losses['train'].append(train_loss)\n",
        "        valid_loss = valid_loss/len(loaders_scratch['valid'].dataset)\n",
        "        all_losses['valid'].append(valid_loss)\n",
        "\n",
        "        train_acc = train_running_corrects.double()/len(loaders_scratch['train'].dataset)\n",
        "        all_accuracies['train'].append(train_acc)\n",
        "        valid_acc = valid_running_corrects.double()/len(loaders_scratch['valid'].dataset)\n",
        "        all_accuracies['valid'].append(valid_acc)\n",
        "        time_epoch = time.time() - start_time\n",
        "\n",
        "            \n",
        "        # print training/validation statistics \n",
        "        print('Training Loss: {:.6f} \\tValidation Loss: {:.6f}\\tTime: {:.0f}m {:.0f}s'.format(             \n",
        "            train_loss,\n",
        "            valid_loss,\n",
        "            time_epoch // 60, time_epoch % 60\n",
        "            ))\n",
        "        \n",
        "        ## save the model if validation loss has decreased\n",
        "        if valid_loss <= valid_loss_min:\n",
        "          print('Validation loss decreased ({:.6f} --> {:.6f}).  Saving model ...'.format(\n",
        "          valid_loss_min,\n",
        "          valid_loss))\n",
        "          torch.save(model_scratch.state_dict(), 'model_scratch.pt')\n",
        "          valid_loss_min = valid_loss  \n",
        "          \n",
        "        # every 5 epochs print current time\n",
        "        if epoch%5 == 0:\n",
        "          print('*'*11)\n",
        "          print_current_time()\n",
        "          print('*'*11)          \n",
        "        \n",
        "    print()\n",
        "            \n",
        "    # return trained model\n",
        "    return model\n",
        "\n",
        "\n",
        "# train the model\n",
        "model_scratch = train(30, loaders_scratch, model_scratch, optimizer_scratch, \n",
        "                      criterion_scratch, use_cuda, 'model_scratch.pt')\n",
        "\n",
        "# load the model that got the best validation accuracy\n",
        "model_scratch.load_state_dict(torch.load('model_scratch.pt'))"
      ],
      "execution_count": 26,
      "outputs": [
        {
          "output_type": "stream",
          "text": [
            "Current time - 18:56:3\n",
            "-----------\n",
            "Epoch: 1\n",
            "Training Loss: 4.882817 \tValidation Loss: 4.863901\tTime: 4m 52s\n",
            "Validation loss decreased (inf --> 4.863901).  Saving model ...\n",
            "-----------\n",
            "Epoch: 2\n",
            "Training Loss: 4.863441 \tValidation Loss: 4.821417\tTime: 4m 50s\n",
            "Validation loss decreased (4.863901 --> 4.821417).  Saving model ...\n",
            "-----------\n",
            "Epoch: 3\n",
            "Training Loss: 4.748388 \tValidation Loss: 4.590000\tTime: 4m 47s\n",
            "Validation loss decreased (4.821417 --> 4.590000).  Saving model ...\n",
            "-----------\n",
            "Epoch: 4\n",
            "Training Loss: 4.621376 \tValidation Loss: 4.493894\tTime: 4m 47s\n",
            "Validation loss decreased (4.590000 --> 4.493894).  Saving model ...\n",
            "-----------\n",
            "Epoch: 5\n",
            "Training Loss: 4.573231 \tValidation Loss: 4.434343\tTime: 4m 49s\n",
            "Validation loss decreased (4.493894 --> 4.434343).  Saving model ...\n",
            "***********\n",
            "Current time - 19:20:4\n",
            "***********\n",
            "-----------\n",
            "Epoch: 6\n",
            "Training Loss: 4.542214 \tValidation Loss: 4.417711\tTime: 4m 51s\n",
            "Validation loss decreased (4.434343 --> 4.417711).  Saving model ...\n",
            "-----------\n",
            "Epoch: 7\n",
            "Training Loss: 4.510779 \tValidation Loss: 4.363046\tTime: 4m 49s\n",
            "Validation loss decreased (4.417711 --> 4.363046).  Saving model ...\n",
            "-----------\n",
            "Epoch: 8\n",
            "Training Loss: 4.471723 \tValidation Loss: 4.327876\tTime: 4m 50s\n",
            "Validation loss decreased (4.363046 --> 4.327876).  Saving model ...\n",
            "-----------\n",
            "Epoch: 9\n",
            "Training Loss: 4.437939 \tValidation Loss: 4.282205\tTime: 4m 53s\n",
            "Validation loss decreased (4.327876 --> 4.282205).  Saving model ...\n",
            "-----------\n",
            "Epoch: 10\n",
            "Training Loss: 4.410265 \tValidation Loss: 4.283925\tTime: 4m 47s\n",
            "***********\n",
            "Current time - 19:45:0\n",
            "***********\n",
            "-----------\n",
            "Epoch: 11\n",
            "Training Loss: 4.374890 \tValidation Loss: 4.208352\tTime: 4m 48s\n",
            "Validation loss decreased (4.282205 --> 4.208352).  Saving model ...\n",
            "-----------\n",
            "Epoch: 12\n",
            "Training Loss: 4.352095 \tValidation Loss: 4.176968\tTime: 4m 49s\n",
            "Validation loss decreased (4.208352 --> 4.176968).  Saving model ...\n",
            "-----------\n",
            "Epoch: 13\n",
            "Training Loss: 4.331487 \tValidation Loss: 4.180449\tTime: 4m 52s\n",
            "-----------\n",
            "Epoch: 14\n",
            "Training Loss: 4.281216 \tValidation Loss: 4.115205\tTime: 4m 52s\n",
            "Validation loss decreased (4.176968 --> 4.115205).  Saving model ...\n",
            "-----------\n",
            "Epoch: 15\n",
            "Training Loss: 4.284041 \tValidation Loss: 4.099101\tTime: 4m 53s\n",
            "Validation loss decreased (4.115205 --> 4.099101).  Saving model ...\n",
            "***********\n",
            "Current time - 20:9:1\n",
            "***********\n",
            "-----------\n",
            "Epoch: 16\n",
            "Training Loss: 4.251091 \tValidation Loss: 4.111871\tTime: 4m 52s\n",
            "-----------\n",
            "Epoch: 17\n",
            "Training Loss: 4.223094 \tValidation Loss: 4.064979\tTime: 4m 57s\n",
            "Validation loss decreased (4.099101 --> 4.064979).  Saving model ...\n",
            "-----------\n",
            "Epoch: 18\n",
            "Training Loss: 4.204800 \tValidation Loss: 4.030948\tTime: 4m 55s\n",
            "Validation loss decreased (4.064979 --> 4.030948).  Saving model ...\n",
            "-----------\n",
            "Epoch: 19\n",
            "Training Loss: 4.208805 \tValidation Loss: 4.033294\tTime: 4m 52s\n",
            "-----------\n",
            "Epoch: 20\n",
            "Training Loss: 4.177284 \tValidation Loss: 4.023796\tTime: 4m 51s\n",
            "Validation loss decreased (4.030948 --> 4.023796).  Saving model ...\n",
            "***********\n",
            "Current time - 20:33:4\n",
            "***********\n",
            "-----------\n",
            "Epoch: 21\n",
            "Training Loss: 4.171363 \tValidation Loss: 4.012563\tTime: 4m 51s\n",
            "Validation loss decreased (4.023796 --> 4.012563).  Saving model ...\n",
            "-----------\n",
            "Epoch: 22\n",
            "Training Loss: 4.145225 \tValidation Loss: 3.993725\tTime: 4m 51s\n",
            "Validation loss decreased (4.012563 --> 3.993725).  Saving model ...\n",
            "-----------\n",
            "Epoch: 23\n",
            "Training Loss: 4.125598 \tValidation Loss: 3.945463\tTime: 4m 49s\n",
            "Validation loss decreased (3.993725 --> 3.945463).  Saving model ...\n",
            "-----------\n",
            "Epoch: 24\n",
            "Training Loss: 4.103309 \tValidation Loss: 4.028169\tTime: 4m 50s\n",
            "-----------\n",
            "Epoch: 25\n",
            "Training Loss: 4.096198 \tValidation Loss: 3.932953\tTime: 4m 49s\n",
            "Validation loss decreased (3.945463 --> 3.932953).  Saving model ...\n",
            "***********\n",
            "Current time - 20:57:5\n",
            "***********\n",
            "-----------\n",
            "Epoch: 26\n",
            "Training Loss: 4.078535 \tValidation Loss: 3.894303\tTime: 4m 51s\n",
            "Validation loss decreased (3.932953 --> 3.894303).  Saving model ...\n",
            "-----------\n",
            "Epoch: 27\n",
            "Training Loss: 4.037331 \tValidation Loss: 3.915383\tTime: 4m 52s\n",
            "-----------\n",
            "Epoch: 28\n",
            "Training Loss: 4.019847 \tValidation Loss: 3.869978\tTime: 4m 55s\n",
            "Validation loss decreased (3.894303 --> 3.869978).  Saving model ...\n",
            "-----------\n",
            "Epoch: 29\n",
            "Training Loss: 4.036162 \tValidation Loss: 3.882253\tTime: 4m 48s\n",
            "-----------\n",
            "Epoch: 30\n",
            "Training Loss: 3.993919 \tValidation Loss: 3.849650\tTime: 4m 51s\n",
            "Validation loss decreased (3.869978 --> 3.849650).  Saving model ...\n",
            "***********\n",
            "Current time - 21:22:1\n",
            "***********\n",
            "\n"
          ],
          "name": "stdout"
        }
      ]
    },
    {
      "metadata": {
        "id": "s8PDOmStv2to",
        "colab_type": "text"
      },
      "cell_type": "markdown",
      "source": [
        "### Test the Model\n",
        "\n",
        "Try out your model on the test dataset of dog images. "
      ]
    },
    {
      "metadata": {
        "id": "J1YK5Oq-v2tp",
        "colab_type": "code",
        "outputId": "ed57039a-11e9-45bb-c75c-69cd8b8bddaa",
        "colab": {
          "base_uri": "https://localhost:8080/",
          "height": 85
        }
      },
      "cell_type": "code",
      "source": [
        "def test(loaders, model, criterion, use_cuda):\n",
        "\n",
        "    # monitor test loss and accuracy\n",
        "    test_loss = 0.\n",
        "    correct = 0.\n",
        "    total = 0.\n",
        "\n",
        "    model.eval()\n",
        "    for batch_idx, (data, target) in enumerate(loaders['test']):\n",
        "        # move to GPU\n",
        "        if use_cuda:\n",
        "            data, target = data.cuda(), target.cuda()\n",
        "        # forward pass: compute predicted outputs by passing inputs to the model\n",
        "        output = model(data)\n",
        "        # calculate the loss\n",
        "        loss = criterion(output, target)\n",
        "        # update average test loss \n",
        "        test_loss = test_loss + ((1 / (batch_idx + 1)) * (loss.data - test_loss))\n",
        "        # convert output probabilities to predicted class\n",
        "        pred = output.data.max(1, keepdim=True)[1]\n",
        "        # compare predictions to true label\n",
        "        correct += np.sum(np.squeeze(pred.eq(target.data.view_as(pred))).cpu().numpy())\n",
        "        total += data.size(0)\n",
        "            \n",
        "    print('Test Loss: {:.6f}\\n'.format(test_loss))\n",
        "\n",
        "    print('\\nTest Accuracy: %2d%% (%2d/%2d)' % (\n",
        "        100. * correct / total, correct, total))\n",
        "\n",
        "# call test function    \n",
        "test(loaders_scratch, model_scratch, criterion_scratch, use_cuda)"
      ],
      "execution_count": 27,
      "outputs": [
        {
          "output_type": "stream",
          "text": [
            "Test Loss: 3.832080\n",
            "\n",
            "\n",
            "Test Accuracy: 11% (93/836)\n"
          ],
          "name": "stdout"
        }
      ]
    },
    {
      "metadata": {
        "id": "ky2qeIy-v2ts",
        "colab_type": "text"
      },
      "cell_type": "markdown",
      "source": [
        "---\n",
        "<a id='step4'></a>\n",
        "## Step 4: Create a CNN to Classify Dog Breeds (using Transfer Learning)\n",
        "\n",
        "Using transfer learning to create a CNN that can identify dog breed from images.  \n",
        "\n",
        "### Specify Data Loaders for the Dog Dataset\n"
      ]
    },
    {
      "metadata": {
        "colab_type": "code",
        "id": "rukUbszNz6D7",
        "colab": {}
      },
      "cell_type": "code",
      "source": [
        "### Write data loaders for training, validation, and test sets\n",
        "## Specify appropriate transforms, and batch_sizes\n",
        "# Transforms for the training and validation sets\n",
        "\n",
        "data_transforms = {\n",
        "    'train': transforms.Compose([        \n",
        "        transforms.ColorJitter(brightness=.2, contrast=.2, saturation=.2),\n",
        "        transforms.RandomRotation(45),\n",
        "        transforms.RandomResizedCrop(224),\n",
        "        transforms.RandomHorizontalFlip(),\n",
        "        transforms.RandomVerticalFlip(),\n",
        "        transforms.ToTensor(),\n",
        "        transforms.Normalize([0.485, 0.456, 0.406], \n",
        "                             [0.229, 0.224, 0.225])\n",
        "    ]),\n",
        "    'valid': transforms.Compose([\n",
        "        transforms.Resize(256),\n",
        "        transforms.CenterCrop(224),\n",
        "        transforms.ToTensor(),\n",
        "        transforms.Normalize([0.485, 0.456, 0.406], \n",
        "                             [0.229, 0.224, 0.225])\n",
        "    ]),\n",
        "    'test': transforms.Compose([\n",
        "        transforms.Resize(256),\n",
        "        transforms.CenterCrop(224),\n",
        "        transforms.ToTensor(),\n",
        "        transforms.Normalize([0.485, 0.456, 0.406], \n",
        "                             [0.229, 0.224, 0.225])\n",
        "    ])\n",
        "}"
      ],
      "execution_count": 0,
      "outputs": []
    },
    {
      "metadata": {
        "colab_type": "code",
        "id": "IrTtB-irz6D-",
        "colab": {}
      },
      "cell_type": "code",
      "source": [
        "dirs = {'train': 'dogImages/train', \n",
        "        'valid': 'dogImages/valid',\n",
        "        'test': 'dogImages/test'}\n",
        "\n",
        "image_datasets = {x: datasets.ImageFolder(dirs[x],   transform=data_transforms[x]) for x in ['train', 'valid', 'test']}\n",
        "dataloaders = {x: torch.utils.data.DataLoader(image_datasets[x], batch_size=64, shuffle=True) for x in ['train', 'valid', 'test']}\n",
        "dataset_sizes = {x: len(image_datasets[x]) \n",
        "                              for x in ['train', 'valid', 'test']}\n",
        "\n",
        "class_names = image_datasets['train'].classes"
      ],
      "execution_count": 0,
      "outputs": []
    },
    {
      "metadata": {
        "id": "KqkjOziwv2tu",
        "colab_type": "text"
      },
      "cell_type": "markdown",
      "source": [
        "### Model Architecture\n",
        "\n",
        "Use transfer learning to create a CNN to classify dog breed. "
      ]
    },
    {
      "metadata": {
        "id": "2gpmr01sv2t0",
        "colab_type": "text"
      },
      "cell_type": "markdown",
      "source": [
        "Densenet model is used as the pretrained model here because:\n",
        "\n",
        "\n",
        "*   It has good performance on imagenet, only after Inception model. \n",
        "*   It uses a lot less number of parameters.\n",
        "*   It trains faster.\n",
        "*   The size of model created is not very large. (~160Mb) This will help when the model is finally deployed on a server for the app. \n",
        "*    Similar accuracy can be achieved with densenet121 model, which has lesser layers. The size for this one is around 30Mb.\n",
        "\n",
        "The classifier layers of the model is replaced by two fully connected layers. The first one has Relu activation while second is connected to log of softmax as output layer. \n",
        "\n",
        "\n"
      ]
    },
    {
      "metadata": {
        "id": "VnNYVo6Uv2tv",
        "colab_type": "code",
        "outputId": "66a27609-9f3f-4f18-ce19-a1cb822ee666",
        "colab": {
          "base_uri": "https://localhost:8080/",
          "height": 105
        }
      },
      "cell_type": "code",
      "source": [
        "## Specify model architecture \n",
        "# Load the pretrained model from pytorch\n",
        "model_transfer = models.densenet161(pretrained=True)\n",
        "\n",
        "if use_cuda:\n",
        "    model_transfer = model_transfer.cuda()\n",
        "    \n",
        "classifier = nn.Sequential(OrderedDict([\n",
        "                          ('fc1', nn.Linear(model_transfer.classifier.in_features, model_transfer.classifier.out_features)),\n",
        "                          ('relu', nn.ReLU()),                          \n",
        "                          ('fc2', nn.Linear(model_transfer.classifier.out_features, len(class_names))),\n",
        "                          ('output', nn.LogSoftmax(dim=1))\n",
        "                          ]))  \n",
        "\n",
        "# Freeze training for all \"features\" layers\n",
        "for param in model_transfer.features.parameters():\n",
        "    param.requires_grad = False\n",
        "    \n",
        "model_transfer.classifier = classifier"
      ],
      "execution_count": 36,
      "outputs": [
        {
          "output_type": "stream",
          "text": [
            "/usr/local/lib/python3.6/dist-packages/torchvision/models/densenet.py:212: UserWarning: nn.init.kaiming_normal is now deprecated in favor of nn.init.kaiming_normal_.\n",
            "  nn.init.kaiming_normal(m.weight.data)\n",
            "Downloading: \"https://download.pytorch.org/models/densenet161-8d451a50.pth\" to /root/.torch/models/densenet161-8d451a50.pth\n",
            "115730790it [00:01, 90054928.91it/s]\n"
          ],
          "name": "stderr"
        }
      ]
    },
    {
      "metadata": {
        "id": "iODB8cfDv2t0",
        "colab_type": "text"
      },
      "cell_type": "markdown",
      "source": [
        "### Specify Loss Function and Optimizer"
      ]
    },
    {
      "metadata": {
        "id": "Q5b-hiLvv2t3",
        "colab_type": "code",
        "colab": {}
      },
      "cell_type": "code",
      "source": [
        "criterion_transfer = nn.CrossEntropyLoss()\n",
        "optimizer_transfer = optim.Adam(model_transfer.classifier.parameters(), lr=0.001)\n",
        "\n",
        "# Decay LR by a factor of 0.1 every 4 epochs\n",
        "scheduler_transfer = lr_scheduler.StepLR(optimizer_transfer, step_size = 3, gamma=0.1)"
      ],
      "execution_count": 0,
      "outputs": []
    },
    {
      "metadata": {
        "id": "YVWvrplev2t5",
        "colab_type": "text"
      },
      "cell_type": "markdown",
      "source": [
        "### Train and Validate the Model\n",
        "\n",
        "Train and validate model in the code cell below.  [Save the final model parameters](http://pytorch.org/docs/master/notes/serialization.html) at filepath `'model_transfer.pt'`."
      ]
    },
    {
      "metadata": {
        "id": "vcvNH0f01hBC",
        "colab_type": "code",
        "colab": {}
      },
      "cell_type": "code",
      "source": [
        "all_losses = {'epoch': [],\n",
        "              'train': [],\n",
        "              'valid': [],\n",
        "              'test': []\n",
        "             }\n",
        "\n",
        "all_accuracies = {'epoch': [],\n",
        "                  'train': [],\n",
        "                  'valid': [],\n",
        "                  'test': []\n",
        "             }"
      ],
      "execution_count": 0,
      "outputs": []
    },
    {
      "metadata": {
        "id": "vhd_HesF2vUw",
        "colab_type": "code",
        "colab": {}
      },
      "cell_type": "code",
      "source": [
        "def print_current_time():\n",
        "  \n",
        "  hours, mins, secs = str(datetime.datetime.now().time())[:-8].split(':')\n",
        "  hours, mins, secs = int(hours), int(mins), int(secs)\n",
        "\n",
        "  if (mins+30)<60:\n",
        "    hours = hours+5 \n",
        "    mins=mins+30 \n",
        "  else:\n",
        "    hours = hours+6 \n",
        "    mins = (mins+30) - 60\n",
        "    \n",
        "  if hours>24:\n",
        "    hours = hours - 24\n",
        "    \n",
        "  print('Current time - {}:{}:{}'.format(hours, mins, secs)) "
      ],
      "execution_count": 0,
      "outputs": []
    },
    {
      "metadata": {
        "id": "toZcS8W6123M",
        "colab_type": "code",
        "outputId": "0c928fb3-7ccf-4885-f9da-3832e8ae6a00",
        "colab": {
          "base_uri": "https://localhost:8080/",
          "height": 1343
        }
      },
      "cell_type": "code",
      "source": [
        "# train the model\n",
        "\n",
        "# number of epochs to train the model\n",
        "n_epochs = 10\n",
        "\n",
        "model_transfer.cuda()\n",
        "valid_loss_min = np.Inf # track change in validation loss\n",
        "print_current_time()\n",
        "\n",
        "for epoch in range(1, n_epochs+1):    \n",
        "    all_losses['epoch'].append(epoch)\n",
        "    all_accuracies['epoch'].append(epoch)\n",
        "    start_time = time.time()\n",
        "    print('-'*11)\n",
        "    print('Epoch: {}'.format(epoch))\n",
        "\n",
        "    # keep track of training and validation loss\n",
        "    train_loss = 0.0\n",
        "    valid_loss = 0.0\n",
        "    train_running_corrects = 0\n",
        "    valid_running_corrects = 0\n",
        "    \n",
        "    ###################\n",
        "    # train the model #\n",
        "    ###################\n",
        "    model_transfer.train()\n",
        "    for inputs, target in dataloaders['train']:\n",
        "        # move tensors to GPU if CUDA is available\n",
        "        inputs, target = inputs.cuda(), target.cuda()\n",
        "        # clear the gradients of all optimized variables\n",
        "        optimizer_transfer.zero_grad()\n",
        "        # forward pass: compute predicted outputs by passing inputs to the model\n",
        "        outputs = model_transfer(inputs)\n",
        "        _, preds = torch.max(outputs, 1)\n",
        "        # calculate the batch loss\n",
        "        loss = criterion_transfer(outputs, target)\n",
        "        # backward pass: compute gradient of the loss with respect to model parameters\n",
        "        loss.backward()\n",
        "        # perform a single optimization step (parameter update)\n",
        "        optimizer_transfer.step()\n",
        "        # update training loss\n",
        "        train_loss += loss.item()*inputs.size(0)\n",
        "        train_running_corrects += torch.sum(preds == target.data)        \n",
        "        \n",
        "    ######################    \n",
        "    # validate the model #\n",
        "    ######################\n",
        "    model_transfer.eval()\n",
        "    for inputs, target in dataloaders['valid']:\n",
        "        # move tensors to GPU if CUDA is available\n",
        "        inputs, target = inputs.cuda(), target.cuda()\n",
        "        # forward pass: compute predicted outputs by passing inputs to the model\n",
        "        outputs = model_transfer(inputs)\n",
        "        _, preds = torch.max(outputs, 1)\n",
        "        # calculate the batch loss\n",
        "        loss = criterion_transfer(outputs, target)\n",
        "        # update average validation loss \n",
        "        valid_loss += loss.item()*inputs.size(0)\n",
        "        valid_running_corrects += torch.sum(preds == target.data)\n",
        "    \n",
        "    # calculate average losses and accuracies\n",
        "    train_loss = train_loss/len(dataloaders['train'].dataset)\n",
        "    all_losses['train'].append(train_loss)\n",
        "    valid_loss = valid_loss/len(dataloaders['valid'].dataset)\n",
        "    all_losses['valid'].append(valid_loss)\n",
        "    \n",
        "    train_acc = train_running_corrects.double()/len(dataloaders['train'].dataset)\n",
        "    all_accuracies['train'].append(train_acc)\n",
        "    valid_acc = valid_running_corrects.double()/len(dataloaders['valid'].dataset)\n",
        "    all_accuracies['valid'].append(valid_acc)\n",
        "    time_epoch = time.time() - start_time\n",
        "        \n",
        "    # print training/validation statistics \n",
        "    print('Training Loss: {:.6f} \\tValidation Loss: {:.6f}'.format(\n",
        "        train_loss, valid_loss))\n",
        "    print('Training Accuracy: {:.6f} \\tValidation Accuracy: {:.6f}'.format(\n",
        "        train_acc, valid_acc))\n",
        "    print_current_time()\n",
        "    print('Epoch Time: {:.0f}m {:.0f}s'.format(\n",
        "              time_epoch // 60, time_epoch % 60))\n",
        "    \n",
        "    # save model if validation loss has decreased\n",
        "    if valid_loss <= valid_loss_min:\n",
        "        print('Validation loss decreased ({:.6f} --> {:.6f}).  Saving model ...'.format(\n",
        "        valid_loss_min,\n",
        "        valid_loss))\n",
        "        torch.save(model_transfer.state_dict(), 'model_transfer.pth')\n",
        "        valid_loss_min = valid_loss       \n",
        "        \n",
        "    print()"
      ],
      "execution_count": 40,
      "outputs": [
        {
          "output_type": "stream",
          "text": [
            "Current time - 21:29:5\n",
            "-----------\n",
            "Epoch: 1\n",
            "Training Loss: 3.382925 \tValidation Loss: 1.389189\n",
            "Training Accuracy: 0.253743 \tValidation Accuracy: 0.674251\n",
            "Current time - 21:36:3\n",
            "Epoch Time: 6m 42s\n",
            "Validation loss decreased (inf --> 1.389189).  Saving model ...\n",
            "\n",
            "-----------\n",
            "Epoch: 2\n",
            "Training Loss: 1.773951 \tValidation Loss: 0.836884\n",
            "Training Accuracy: 0.528144 \tValidation Accuracy: 0.755689\n",
            "Current time - 21:43:2\n",
            "Epoch Time: 6m 43s\n",
            "Validation loss decreased (1.389189 --> 0.836884).  Saving model ...\n",
            "\n",
            "-----------\n",
            "Epoch: 3\n",
            "Training Loss: 1.513161 \tValidation Loss: 0.684952\n",
            "Training Accuracy: 0.574251 \tValidation Accuracy: 0.785629\n",
            "Current time - 21:50:0\n",
            "Epoch Time: 6m 43s\n",
            "Validation loss decreased (0.836884 --> 0.684952).  Saving model ...\n",
            "\n",
            "-----------\n",
            "Epoch: 4\n",
            "Training Loss: 1.387236 \tValidation Loss: 0.623844\n",
            "Training Accuracy: 0.610928 \tValidation Accuracy: 0.811976\n",
            "Current time - 21:56:4\n",
            "Epoch Time: 6m 42s\n",
            "Validation loss decreased (0.684952 --> 0.623844).  Saving model ...\n",
            "\n",
            "-----------\n",
            "Epoch: 5\n",
            "Training Loss: 1.281673 \tValidation Loss: 0.522412\n",
            "Training Accuracy: 0.638174 \tValidation Accuracy: 0.847904\n",
            "Current time - 22:3:2\n",
            "Epoch Time: 6m 43s\n",
            "Validation loss decreased (0.623844 --> 0.522412).  Saving model ...\n",
            "\n",
            "-----------\n",
            "Epoch: 6\n",
            "Training Loss: 1.230714 \tValidation Loss: 0.550459\n",
            "Training Accuracy: 0.642665 \tValidation Accuracy: 0.827545\n",
            "Current time - 22:10:1\n",
            "Epoch Time: 6m 41s\n",
            "\n",
            "-----------\n",
            "Epoch: 7\n",
            "Training Loss: 1.180172 \tValidation Loss: 0.478989\n",
            "Training Accuracy: 0.661976 \tValidation Accuracy: 0.851497\n",
            "Current time - 22:16:5\n",
            "Epoch Time: 6m 42s\n",
            "Validation loss decreased (0.522412 --> 0.478989).  Saving model ...\n",
            "\n",
            "-----------\n",
            "Epoch: 8\n",
            "Training Loss: 1.143221 \tValidation Loss: 0.490225\n",
            "Training Accuracy: 0.670659 \tValidation Accuracy: 0.858683\n",
            "Current time - 22:23:3\n",
            "Epoch Time: 6m 43s\n",
            "\n",
            "-----------\n",
            "Epoch: 9\n",
            "Training Loss: 1.097777 \tValidation Loss: 0.453316\n",
            "Training Accuracy: 0.685030 \tValidation Accuracy: 0.855090\n",
            "Current time - 22:30:1\n",
            "Epoch Time: 6m 43s\n",
            "Validation loss decreased (0.478989 --> 0.453316).  Saving model ...\n",
            "\n",
            "-----------\n",
            "Epoch: 10\n",
            "Training Loss: 1.075951 \tValidation Loss: 0.473887\n",
            "Training Accuracy: 0.694162 \tValidation Accuracy: 0.847904\n",
            "Current time - 22:37:0\n",
            "Epoch Time: 6m 43s\n",
            "\n"
          ],
          "name": "stdout"
        }
      ]
    },
    {
      "metadata": {
        "id": "v9VfJFih1uLt",
        "colab_type": "code",
        "colab": {}
      },
      "cell_type": "code",
      "source": [
        "# load the model that got the best validation accuracy (uncomment the line below)\n",
        "model_transfer.load_state_dict(torch.load('model_transfer.pth'))"
      ],
      "execution_count": 0,
      "outputs": []
    },
    {
      "metadata": {
        "id": "ODV5DskHv2t8",
        "colab_type": "text"
      },
      "cell_type": "markdown",
      "source": [
        "### Test the Model"
      ]
    },
    {
      "metadata": {
        "id": "FIO7lEKjv2t9",
        "colab_type": "code",
        "outputId": "ef60b437-cba2-470f-9d36-4ded7a3be9fa",
        "colab": {
          "base_uri": "https://localhost:8080/",
          "height": 102
        }
      },
      "cell_type": "code",
      "source": [
        "# test the model\n",
        "\n",
        "print_current_time()\n",
        "# keep track of training and validation loss\n",
        "test_loss = 0.0\n",
        "test_running_corrects = 0\n",
        "\n",
        "######################    \n",
        "# test the model #\n",
        "######################\n",
        "model_transfer.eval()\n",
        "for inputs, target in dataloaders['test']:\n",
        "    # move tensors to GPU if CUDA is available\n",
        "    inputs, target = inputs.cuda(), target.cuda()\n",
        "    # forward pass: compute predicted outputs by passing inputs to the model\n",
        "    outputs = model_transfer(inputs)\n",
        "    _, preds = torch.max(outputs, 1)\n",
        "    # calculate the batch loss\n",
        "    loss = criterion_transfer(outputs, target)\n",
        "    # update average validation loss \n",
        "    test_loss += loss.item()*inputs.size(0)\n",
        "    test_running_corrects += torch.sum(preds == target.data)\n",
        "\n",
        "# calculate average loss and accuracy\n",
        "test_loss = test_loss/len(dataloaders['test'].dataset)\n",
        "all_losses['test'].append(test_loss)\n",
        "\n",
        "test_acc = test_running_corrects.double()/len(dataloaders['test'].dataset)\n",
        "all_accuracies['test'].append(test_acc)\n",
        "time_epoch = time.time() - start_time\n",
        "\n",
        "# print training/validation statistics \n",
        "print('Test Loss: {:.6f}'.format(test_loss))\n",
        "print('Test Accuracy: {:.6f}'.format(test_acc*100))\n",
        "print_current_time()\n",
        "print('Epoch Time: {:.0f}m {:.0f}s'.format(\n",
        "          time_epoch // 60, time_epoch % 60))"
      ],
      "execution_count": 42,
      "outputs": [
        {
          "output_type": "stream",
          "text": [
            "Current time - 22:37:0\n",
            "Test Loss: 0.498555\n",
            "Test Accuracy: 83.014354\n",
            "Current time - 22:37:3\n",
            "Epoch Time: 7m 10s\n"
          ],
          "name": "stdout"
        }
      ]
    },
    {
      "metadata": {
        "id": "TCacKl8iv2uC",
        "colab_type": "text"
      },
      "cell_type": "markdown",
      "source": [
        "### Predicting Dog Breed with the Model"
      ]
    },
    {
      "metadata": {
        "id": "x0F_osUHv2uD",
        "colab_type": "code",
        "colab": {}
      },
      "cell_type": "code",
      "source": [
        "### Write a function that takes a path to an image as input\n",
        "### and returns the dog breed that is predicted by the model.\n",
        "\n",
        "# list of class names by index, i.e. a name can be accessed like class_names[0]\n",
        "class_names = [item[4:].replace(\"_\", \" \") for item in class_names]\n",
        "\n",
        "def predict_breed_transfer(img_path):\n",
        "    # load the image and return the predicted breed\n",
        "    # Process image\n",
        "    img = process_image(img_path) \n",
        "    img = torch.from_numpy(img).type(torch.FloatTensor) \n",
        "    img.unsqueeze_(0)\n",
        "    img = img.cuda()\n",
        "\n",
        "    # Predict top label\n",
        "    probs = torch.exp(model_transfer.forward(img)) \n",
        "    top_prob, top_lab = probs.topk(1)     \n",
        "    return class_names[int(top_lab)]"
      ],
      "execution_count": 0,
      "outputs": []
    },
    {
      "metadata": {
        "id": "FjboU4VLv2uG",
        "colab_type": "text"
      },
      "cell_type": "markdown",
      "source": [
        "---\n",
        "<a id='step5'></a>\n",
        "## Step 5: Writing the Algorithm\n",
        "\n",
        "The algorithm accepts a file path to an image and first determines whether the image contains a human, dog, or neither.  Then,\n",
        "- if a __dog__ is detected in the image, return the predicted breed.\n",
        "- if a __human__ is detected in the image, return the resembling dog breed.\n",
        "- if __neither__ is detected in the image, provide output that indicates an error."
      ]
    },
    {
      "metadata": {
        "id": "3Tgd9Qnfv2uG",
        "colab_type": "code",
        "colab": {}
      },
      "cell_type": "code",
      "source": [
        "### Write your algorithm.\n",
        "### Feel free to use as many code cells as needed.\n",
        "\n",
        "def run_app(img_path):\n",
        "    ## handle cases for a human face, dog, and neither\n",
        "    if face_detector(img_path):\n",
        "      return predict_breed_transfer(img_path)\n",
        "    \n",
        "    elif dog_detector(img_path):\n",
        "      return predict_breed_transfer(img_path)\n",
        "    \n",
        "    else:\n",
        "      return 'Error'\n"
      ],
      "execution_count": 0,
      "outputs": []
    },
    {
      "metadata": {
        "id": "r4ofrSg4v2uI",
        "colab_type": "text"
      },
      "cell_type": "markdown",
      "source": [
        "---\n",
        "<a id='step6'></a>\n",
        "## Step 6: Testing the Algorithm"
      ]
    },
    {
      "metadata": {
        "id": "qJdFK2wOv2uI",
        "colab_type": "text"
      },
      "cell_type": "markdown",
      "source": [
        "The output is around what I expected. It can be improved further:\n",
        "\n",
        "*   Accurcay can be further impoved. More epochs can push it beyond 90% level.\n",
        "*   Size of the model can be reduced by having the same model with fewer layers. (Densenet121 or Densenet161)\n",
        "*   Inception model can be used, instead of densenet. It may have higher performance. "
      ]
    },
    {
      "metadata": {
        "id": "fyC8eBqdIjA-",
        "colab_type": "code",
        "outputId": "c465ed06-b3a6-4f6e-f8d3-6119bcdd1a0f",
        "colab": {
          "base_uri": "https://localhost:8080/",
          "height": 598
        }
      },
      "cell_type": "code",
      "source": [
        "# download images\n",
        "!wget https://upload.wikimedia.org/wikipedia/commons/a/ae/Alia_Bhatt_2016.jpg -O alia.jpg\n",
        "!wget https://cdn0.wideopenpets.com/wp-content/uploads/2018/03/Akita-770x405.jpg -O dog.jpg\n",
        "!wget https://i1.wp.com/4f7bg01yl3z03jojs41hgo8k-wpengine.netdna-ssl.com/wp-content/uploads/2016/10/HF160920_Global_Blog_All_About_Apples_15_low.jpg?ssl=1 -O apple.jpg"
      ],
      "execution_count": 45,
      "outputs": [
        {
          "output_type": "stream",
          "text": [
            "--2019-03-01 17:12:19--  https://upload.wikimedia.org/wikipedia/commons/a/ae/Alia_Bhatt_2016.jpg\n",
            "Resolving upload.wikimedia.org (upload.wikimedia.org)... 103.102.166.240, 2001:df2:e500:ed1a::2:b\n",
            "Connecting to upload.wikimedia.org (upload.wikimedia.org)|103.102.166.240|:443... connected.\n",
            "HTTP request sent, awaiting response... 200 OK\n",
            "Length: 153625 (150K) [image/jpeg]\n",
            "Saving to: ‘alia.jpg’\n",
            "\n",
            "\ralia.jpg              0%[                    ]       0  --.-KB/s               \ralia.jpg            100%[===================>] 150.02K   936KB/s    in 0.2s    \n",
            "\n",
            "2019-03-01 17:12:19 (936 KB/s) - ‘alia.jpg’ saved [153625/153625]\n",
            "\n",
            "--2019-03-01 17:12:22--  https://cdn0.wideopenpets.com/wp-content/uploads/2018/03/Akita-770x405.jpg\n",
            "Resolving cdn0.wideopenpets.com (cdn0.wideopenpets.com)... 104.25.232.5, 104.25.233.5, 2606:4700:20::6819:e905, ...\n",
            "Connecting to cdn0.wideopenpets.com (cdn0.wideopenpets.com)|104.25.232.5|:443... connected.\n",
            "HTTP request sent, awaiting response... 200 OK\n",
            "Length: 37648 (37K) [image/jpeg]\n",
            "Saving to: ‘dog.jpg’\n",
            "\n",
            "dog.jpg             100%[===================>]  36.77K  --.-KB/s    in 0.001s  \n",
            "\n",
            "2019-03-01 17:12:23 (50.1 MB/s) - ‘dog.jpg’ saved [37648/37648]\n",
            "\n",
            "--2019-03-01 17:12:26--  https://i1.wp.com/4f7bg01yl3z03jojs41hgo8k-wpengine.netdna-ssl.com/wp-content/uploads/2016/10/HF160920_Global_Blog_All_About_Apples_15_low.jpg?ssl=1\n",
            "Resolving i1.wp.com (i1.wp.com)... 192.0.77.2\n",
            "Connecting to i1.wp.com (i1.wp.com)|192.0.77.2|:443... connected.\n",
            "HTTP request sent, awaiting response... 200 OK\n",
            "Length: 1043569 (1019K) [image/jpeg]\n",
            "Saving to: ‘apple.jpg’\n",
            "\n",
            "apple.jpg           100%[===================>]   1019K  --.-KB/s    in 0.08s   \n",
            "\n",
            "2019-03-01 17:12:26 (13.0 MB/s) - ‘apple.jpg’ saved [1043569/1043569]\n",
            "\n"
          ],
          "name": "stdout"
        }
      ]
    },
    {
      "metadata": {
        "id": "XtQ6e7GOv2uJ",
        "colab_type": "code",
        "outputId": "e07f827c-8937-4924-eaff-4c9061217772",
        "colab": {
          "base_uri": "https://localhost:8080/",
          "height": 170
        }
      },
      "cell_type": "code",
      "source": [
        "## Execute your algorithm from Step 6 on\n",
        "## at least 6 images.\n",
        "## Feel free to use as many code cells as needed.\n",
        "\n",
        "## suggested code, below\n",
        "# 3 human and three dog images\n",
        "for file in np.hstack((human_files[:3], dog_files[:3])):\n",
        "    print(run_app(file))\n",
        "\n",
        "# 1 human, dog, neither human nor dog    \n",
        "print(run_app('alia.jpg'))\n",
        "print(run_app('dog.jpg'))\n",
        "print(run_app('apple.jpg'))"
      ],
      "execution_count": 46,
      "outputs": [
        {
          "output_type": "stream",
          "text": [
            "American staffordshire terrier\n",
            "Great dane\n",
            "Chinese shar-pei\n",
            "Boston terrier\n",
            "Boston terrier\n",
            "Boston terrier\n",
            "Greyhound\n",
            "Canaan dog\n",
            "Error\n"
          ],
          "name": "stdout"
        }
      ]
    },
    {
      "metadata": {
        "id": "mL9OV08LOLxG",
        "colab_type": "code",
        "colab": {}
      },
      "cell_type": "code",
      "source": [
        ""
      ],
      "execution_count": 0,
      "outputs": []
    }
  ]
}