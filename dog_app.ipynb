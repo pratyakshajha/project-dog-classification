{
  "nbformat": 4,
  "nbformat_minor": 0,
  "metadata": {
    "colab": {
      "name": "dog_app.ipynb",
      "version": "0.3.2",
      "provenance": [],
      "toc_visible": true,
      "include_colab_link": true
    },
    "kernelspec": {
      "name": "python3",
      "display_name": "Python 3"
    },
    "accelerator": "GPU"
  },
  "cells": [
    {
      "cell_type": "markdown",
      "metadata": {
        "id": "view-in-github",
        "colab_type": "text"
      },
      "source": [
        "<a href=\"https://colab.research.google.com/github/pratyakshajha/project-dog-classification/blob/master/dog_app.ipynb\" target=\"_parent\"><img src=\"https://colab.research.google.com/assets/colab-badge.svg\" alt=\"Open In Colab\"/></a>"
      ]
    },
    {
      "metadata": {
        "id": "oA6s-5hWv2sR",
        "colab_type": "text"
      },
      "cell_type": "markdown",
      "source": [
        "# Convolutional Neural Networks\n",
        "\n",
        "## Project: Write an Algorithm for a Dog Identification App \n",
        "\n",
        "---\n",
        "\n",
        "In this notebook, some template code has already been provided for you, and you will need to implement additional functionality to successfully complete this project. You will not need to modify the included code beyond what is requested. Sections that begin with **'(IMPLEMENTATION)'** in the header indicate that the following block of code will require additional functionality which you must provide. Instructions will be provided for each section, and the specifics of the implementation are marked in the code block with a 'TODO' statement. Please be sure to read the instructions carefully! \n",
        "\n",
        "> **Note**: Once you have completed all of the code implementations, you need to finalize your work by exporting the Jupyter Notebook as an HTML document. Before exporting the notebook to html, all of the code cells need to have been run so that reviewers can see the final implementation and output. You can then export the notebook by using the menu above and navigating to **File -> Download as -> HTML (.html)**. Include the finished document along with this notebook as your submission.\n",
        "\n",
        "In addition to implementing code, there will be questions that you must answer which relate to the project and your implementation. Each section where you will answer a question is preceded by a **'Question X'** header. Carefully read each question and provide thorough answers in the following text boxes that begin with **'Answer:'**. Your project submission will be evaluated based on your answers to each of the questions and the implementation you provide.\n",
        "\n",
        ">**Note:** Code and Markdown cells can be executed using the **Shift + Enter** keyboard shortcut.  Markdown cells can be edited by double-clicking the cell to enter edit mode.\n",
        "\n",
        "The rubric contains _optional_ \"Stand Out Suggestions\" for enhancing the project beyond the minimum requirements. If you decide to pursue the \"Stand Out Suggestions\", you should include the code in this Jupyter notebook.\n",
        "\n",
        "\n",
        "\n",
        "---\n",
        "### Why We're Here \n",
        "\n",
        "In this notebook, you will make the first steps towards developing an algorithm that could be used as part of a mobile or web app.  At the end of this project, your code will accept any user-supplied image as input.  If a dog is detected in the image, it will provide an estimate of the dog's breed.  If a human is detected, it will provide an estimate of the dog breed that is most resembling.  The image below displays potential sample output of your finished project (... but we expect that each student's algorithm will behave differently!). \n",
        "\n",
        "![Sample Dog Output](https://github.com/pratyakshajha/deep-learning-v2-pytorch/blob/master/project-dog-classification/images/sample_dog_output.png?raw=1)\n",
        "\n",
        "In this real-world setting, you will need to piece together a series of models to perform different tasks; for instance, the algorithm that detects humans in an image will be different from the CNN that infers dog breed.  There are many points of possible failure, and no perfect algorithm exists.  Your imperfect solution will nonetheless create a fun user experience!\n",
        "\n",
        "### The Road Ahead\n",
        "\n",
        "We break the notebook into separate steps.  Feel free to use the links below to navigate the notebook.\n",
        "\n",
        "* [Step 0](#step0): Import Datasets\n",
        "* [Step 1](#step1): Detect Humans\n",
        "* [Step 2](#step2): Detect Dogs\n",
        "* [Step 3](#step3): Create a CNN to Classify Dog Breeds (from Scratch)\n",
        "* [Step 4](#step4): Create a CNN to Classify Dog Breeds (using Transfer Learning)\n",
        "* [Step 5](#step5): Write your Algorithm\n",
        "* [Step 6](#step6): Test Your Algorithm\n",
        "\n",
        "---\n",
        "<a id='step0'></a>\n",
        "## Step 0: Import Datasets\n",
        "\n",
        "Make sure that you've downloaded the required human and dog datasets:\n",
        "* Download the [dog dataset](https://s3-us-west-1.amazonaws.com/udacity-aind/dog-project/dogImages.zip).  Unzip the folder and place it in this project's home directory, at the location `/dogImages`. \n",
        "\n",
        "* Download the [human dataset](https://s3-us-west-1.amazonaws.com/udacity-aind/dog-project/lfw.zip).  Unzip the folder and place it in the home directory, at location `/lfw`.  \n",
        "\n",
        "*Note: If you are using a Windows machine, you are encouraged to use [7zip](http://www.7-zip.org/) to extract the folder.*\n",
        "\n",
        "In the code cell below, we save the file paths for both the human (LFW) dataset and dog dataset in the numpy arrays `human_files` and `dog_files`."
      ]
    },
    {
      "metadata": {
        "id": "_AAId2O22mdu",
        "colab_type": "code",
        "outputId": "de9ad5a2-cc4a-47d9-8127-a1314cfd5557",
        "colab": {
          "base_uri": "https://localhost:8080/",
          "height": 34
        }
      },
      "cell_type": "code",
      "source": [
        "!git clone https://github.com/pratyakshajha/project-dog-classification.git"
      ],
      "execution_count": 1,
      "outputs": [
        {
          "output_type": "stream",
          "text": [
            "fatal: destination path 'project-dog-classification' already exists and is not an empty directory.\n"
          ],
          "name": "stdout"
        }
      ]
    },
    {
      "metadata": {
        "id": "ns0T-eHkxk2O",
        "colab_type": "code",
        "colab": {}
      },
      "cell_type": "code",
      "source": [
        "# download the required data files\n",
        "\n",
        "!wget -cq https://s3-us-west-1.amazonaws.com/udacity-aind/dog-project/dogImages.zip\n",
        "!wget -cq https://s3-us-west-1.amazonaws.com/udacity-aind/dog-project/lfw.zip"
      ],
      "execution_count": 0,
      "outputs": []
    },
    {
      "metadata": {
        "id": "FnBDAm8K0fJm",
        "colab_type": "code",
        "colab": {}
      },
      "cell_type": "code",
      "source": [
        "# unzip the data files\n",
        "\n",
        "!rm -r dogImages || true\n",
        "!unzip -qq dogImages.zip\n",
        "\n",
        "!rm -r lfw || true\n",
        "!unzip -qq lfw.zip\n",
        "\n",
        "!rm -r __MACOSX || true"
      ],
      "execution_count": 0,
      "outputs": []
    },
    {
      "metadata": {
        "id": "2toUJ8KPv2sU",
        "colab_type": "code",
        "outputId": "e2a53761-6393-4eea-dffa-a993b7661862",
        "colab": {
          "base_uri": "https://localhost:8080/",
          "height": 51
        }
      },
      "cell_type": "code",
      "source": [
        "import numpy as np\n",
        "from glob import glob\n",
        "\n",
        "# load filenames for human and dog images\n",
        "human_files = np.array(glob(\"lfw/*/*\"))\n",
        "dog_files = np.array(glob(\"dogImages/*/*/*\"))\n",
        "\n",
        "# print number of images in each dataset\n",
        "print('There are %d total human images.' % len(human_files))\n",
        "print('There are %d total dog images.' % len(dog_files))"
      ],
      "execution_count": 11,
      "outputs": [
        {
          "output_type": "stream",
          "text": [
            "There are 13233 total human images.\n",
            "There are 8351 total dog images.\n"
          ],
          "name": "stdout"
        }
      ]
    },
    {
      "metadata": {
        "id": "dQoamwswv2sb",
        "colab_type": "text"
      },
      "cell_type": "markdown",
      "source": [
        "<a id='step1'></a>\n",
        "## Step 1: Detect Humans\n",
        "\n",
        "In this section, we use OpenCV's implementation of [Haar feature-based cascade classifiers](http://docs.opencv.org/trunk/d7/d8b/tutorial_py_face_detection.html) to detect human faces in images.  \n",
        "\n",
        "OpenCV provides many pre-trained face detectors, stored as XML files on [github](https://github.com/opencv/opencv/tree/master/data/haarcascades).  We have downloaded one of these detectors and stored it in the `haarcascades` directory.  In the next code cell, we demonstrate how to use this detector to find human faces in a sample image."
      ]
    },
    {
      "metadata": {
        "id": "SCpiy6-0v2sc",
        "colab_type": "code",
        "outputId": "c4d0b5d7-5c36-4563-da00-73216dfec3f4",
        "colab": {
          "base_uri": "https://localhost:8080/",
          "height": 286
        }
      },
      "cell_type": "code",
      "source": [
        "import cv2                \n",
        "import matplotlib.pyplot as plt                        \n",
        "%matplotlib inline                               \n",
        "\n",
        "# extract pre-trained face detector\n",
        "face_cascade = cv2.CascadeClassifier('project-dog-classification/haarcascades/haarcascade_frontalface_alt.xml')\n",
        "\n",
        "# load color (BGR) image\n",
        "img = cv2.imread(human_files[0])\n",
        "# convert BGR image to grayscale\n",
        "gray = cv2.cvtColor(img, cv2.COLOR_BGR2GRAY)\n",
        "\n",
        "# find faces in image\n",
        "faces = face_cascade.detectMultiScale(gray)\n",
        "\n",
        "# print number of faces detected in the image\n",
        "print('Number of faces detected:', len(faces))\n",
        "\n",
        "# get bounding box for each detected face\n",
        "for (x,y,w,h) in faces:\n",
        "    # add bounding box to color image\n",
        "    cv2.rectangle(img,(x,y),(x+w,y+h),(255,0,0),2)\n",
        "    \n",
        "# convert BGR image to RGB for plotting\n",
        "cv_rgb = cv2.cvtColor(img, cv2.COLOR_BGR2RGB)\n",
        "\n",
        "# display the image, along with bounding box\n",
        "plt.imshow(cv_rgb)\n",
        "plt.show()"
      ],
      "execution_count": 5,
      "outputs": [
        {
          "output_type": "stream",
          "text": [
            "Number of faces detected: 1\n"
          ],
          "name": "stdout"
        },
        {
          "output_type": "display_data",
          "data": {
            "image/png": "[encoded data removed]",
            "text/plain": [
              "<Figure size 432x288 with 1 Axes>"
            ]
          },
          "metadata": {
            "tags": []
          }
        }
      ]
    },
    {
      "metadata": {
        "id": "2aGg09YQv2sh",
        "colab_type": "text"
      },
      "cell_type": "markdown",
      "source": [
        "Before using any of the face detectors, it is standard procedure to convert the images to grayscale.  The `detectMultiScale` function executes the classifier stored in `face_cascade` and takes the grayscale image as a parameter.  \n",
        "\n",
        "In the above code, `faces` is a numpy array of detected faces, where each row corresponds to a detected face.  Each detected face is a 1D array with four entries that specifies the bounding box of the detected face.  The first two entries in the array (extracted in the above code as `x` and `y`) specify the horizontal and vertical positions of the top left corner of the bounding box.  The last two entries in the array (extracted here as `w` and `h`) specify the width and height of the box.\n",
        "\n",
        "### Write a Human Face Detector\n",
        "\n",
        "We can use this procedure to write a function that returns `True` if a human face is detected in an image and `False` otherwise.  This function, aptly named `face_detector`, takes a string-valued file path to an image as input and appears in the code block below."
      ]
    },
    {
      "metadata": {
        "id": "cE_Cb0kDv2si",
        "colab_type": "code",
        "colab": {}
      },
      "cell_type": "code",
      "source": [
        "# returns \"True\" if face is detected in image stored at img_path\n",
        "def face_detector(img_path):\n",
        "    img = cv2.imread(img_path)\n",
        "    gray = cv2.cvtColor(img, cv2.COLOR_BGR2GRAY)\n",
        "    faces = face_cascade.detectMultiScale(gray)\n",
        "    return len(faces) > 0"
      ],
      "execution_count": 0,
      "outputs": []
    },
    {
      "metadata": {
        "id": "htYWf7kBv2sn",
        "colab_type": "text"
      },
      "cell_type": "markdown",
      "source": [
        "### (IMPLEMENTATION) Assess the Human Face Detector\n",
        "\n",
        "__Question 1:__ Use the code cell below to test the performance of the `face_detector` function.  \n",
        "- What percentage of the first 100 images in `human_files` have a detected human face?  \n",
        "- What percentage of the first 100 images in `dog_files` have a detected human face? \n",
        "\n",
        "Ideally, we would like 100% of human images with a detected face and 0% of dog images with a detected face.  You will see that our algorithm falls short of this goal, but still gives acceptable performance.  We extract the file paths for the first 100 images from each of the datasets and store them in the numpy arrays `human_files_short` and `dog_files_short`."
      ]
    },
    {
      "metadata": {
        "id": "TvaR5uU1v2sp",
        "colab_type": "text"
      },
      "cell_type": "markdown",
      "source": [
        "__Answer:__ \n",
        "(You can print out your results and/or write your percentages in this cell)"
      ]
    },
    {
      "metadata": {
        "id": "pLWB3M1pv2sq",
        "colab_type": "code",
        "outputId": "9d1c05e4-ba05-4c60-ed4b-58a1d3736927",
        "colab": {
          "base_uri": "https://localhost:8080/",
          "height": 102
        }
      },
      "cell_type": "code",
      "source": [
        "from tqdm import tqdm\n",
        "\n",
        "human_files_short = human_files[:100]\n",
        "dog_files_short = dog_files[:100]\n",
        "\n",
        "count = []\n",
        "temp = 0\n",
        "for file in tqdm(human_files_short):\n",
        "  if face_detector(file):\n",
        "    temp += 1\n",
        "count.append(temp)    \n",
        "\n",
        "temp = 0\n",
        "for file in tqdm(dog_files_short):\n",
        "  if face_detector(file):\n",
        "    temp += 1\n",
        "count.append(temp)   \n",
        "    \n",
        "print('\\nPercentage of the first 100 images in human_files and dog_files that have a detected human face:\\n {}\\t{}'.format(count[0], count[1]))"
      ],
      "execution_count": 7,
      "outputs": [
        {
          "output_type": "stream",
          "text": [
            "100%|██████████| 100/100 [00:05<00:00, 18.02it/s]\n",
            "100%|██████████| 100/100 [00:21<00:00,  5.16it/s]"
          ],
          "name": "stderr"
        },
        {
          "output_type": "stream",
          "text": [
            "\n",
            "Percentage of the first 100 images in human_files and dog_files that have a detected human face:\n",
            " 99\t11\n"
          ],
          "name": "stdout"
        },
        {
          "output_type": "stream",
          "text": [
            "\n"
          ],
          "name": "stderr"
        }
      ]
    },
    {
      "metadata": {
        "id": "gNE7WTkov2s4",
        "colab_type": "text"
      },
      "cell_type": "markdown",
      "source": [
        "---\n",
        "<a id='step2'></a>\n",
        "## Step 2: Detect Dogs\n",
        "\n",
        "In this section, we use a [pre-trained model](http://pytorch.org/docs/master/torchvision/models.html) to detect dogs in images.  \n",
        "\n",
        "### Obtain Pre-trained VGG-16 Model\n",
        "\n",
        "The code cell below downloads the VGG-16 model, along with weights that have been trained on [ImageNet](http://www.image-net.org/), a very large, very popular dataset used for image classification and other vision tasks.  ImageNet contains over 10 million URLs, each linking to an image containing an object from one of [1000 categories](https://gist.github.com/yrevar/942d3a0ac09ec9e5eb3a).  "
      ]
    },
    {
      "metadata": {
        "id": "1q03vpysv2s5",
        "colab_type": "code",
        "colab": {}
      },
      "cell_type": "code",
      "source": [
        "import torch\n",
        "import torchvision.models as models\n",
        "\n",
        "# define VGG16 model\n",
        "VGG16 = models.vgg16(pretrained=True)\n",
        "\n",
        "# check if CUDA is available\n",
        "use_cuda = torch.cuda.is_available()\n",
        "\n",
        "# move model to GPU if CUDA is available\n",
        "if use_cuda:\n",
        "    VGG16 = VGG16.cuda()"
      ],
      "execution_count": 0,
      "outputs": []
    },
    {
      "metadata": {
        "id": "rhxA-shiv2s9",
        "colab_type": "text"
      },
      "cell_type": "markdown",
      "source": [
        "Given an image, this pre-trained VGG-16 model returns a prediction (derived from the 1000 possible categories in ImageNet) for the object that is contained in the image."
      ]
    },
    {
      "metadata": {
        "id": "dRRubqgHv2s-",
        "colab_type": "text"
      },
      "cell_type": "markdown",
      "source": [
        "### (IMPLEMENTATION) Making Predictions with a Pre-trained Model\n",
        "\n",
        "In the next code cell, you will write a function that accepts a path to an image (such as `'dogImages/train/001.Affenpinscher/Affenpinscher_00001.jpg'`) as input and returns the index corresponding to the ImageNet class that is predicted by the pre-trained VGG-16 model.  The output should always be an integer between 0 and 999, inclusive.\n",
        "\n",
        "Before writing the function, make sure that you take the time to learn  how to appropriately pre-process tensors for pre-trained models in the [PyTorch documentation](http://pytorch.org/docs/stable/torchvision/models.html)."
      ]
    },
    {
      "metadata": {
        "id": "lF6tVv-UtCgI",
        "colab_type": "code",
        "colab": {}
      },
      "cell_type": "code",
      "source": [
        "def process_image(image):\n",
        "    ''' \n",
        "    Scales, crops, and normalizes a PIL image for a PyTorch       \n",
        "    model, returns an Numpy array\n",
        "    '''\n",
        "    # Open the image\n",
        "    from PIL import Image\n",
        "    img = Image.open(image)\n",
        "    # Resize\n",
        "    if img.size[0] > img.size[1]:\n",
        "        img.thumbnail((10000, 256))\n",
        "    else:\n",
        "        img.thumbnail((256, 10000))\n",
        "    # Crop \n",
        "    left_margin = (img.width-224)/2\n",
        "    bottom_margin = (img.height-224)/2\n",
        "    right_margin = left_margin + 224\n",
        "    top_margin = bottom_margin + 224\n",
        "    img = img.crop((left_margin, bottom_margin, right_margin,   \n",
        "                      top_margin))\n",
        "    # Normalize\n",
        "    img = np.array(img)/255\n",
        "    mean = np.array([0.485, 0.456, 0.406]) #provided mean\n",
        "    std = np.array([0.229, 0.224, 0.225]) #provided std\n",
        "    img = (img - mean)/std\n",
        "    \n",
        "    # Move color channels to first dimension as expected by PyTorch\n",
        "    img = img.transpose((2, 0, 1))    \n",
        "    \n",
        "    return img"
      ],
      "execution_count": 0,
      "outputs": []
    },
    {
      "metadata": {
        "id": "4H-l2OC6v2s_",
        "colab_type": "code",
        "colab": {}
      },
      "cell_type": "code",
      "source": [
        "from PIL import Image\n",
        "import torchvision.transforms as transforms\n",
        "\n",
        "# Set PIL to be tolerant of image files that are truncated.\n",
        "from PIL import ImageFile\n",
        "ImageFile.LOAD_TRUNCATED_IMAGES = True\n",
        "\n",
        "def VGG16_predict(img_path):\n",
        "    '''\n",
        "    Use pre-trained VGG-16 model to obtain index corresponding to \n",
        "    predicted ImageNet class for image at specified path\n",
        "    \n",
        "    Args:\n",
        "        img_path: path to an image\n",
        "        \n",
        "    Returns:\n",
        "        Index corresponding to VGG-16 model's prediction\n",
        "    '''\n",
        "    # Process image\n",
        "    img = process_image(img_path) \n",
        "    img = torch.from_numpy(img).type(torch.FloatTensor) \n",
        "    img.unsqueeze_(0)\n",
        "    img = img.cuda()\n",
        "\n",
        "    # Predict top label\n",
        "    probs = torch.exp(VGG16.forward(img)) \n",
        "    top_prob, top_lab = probs.topk(1) \n",
        "\n",
        "    ## TODO: Complete the function.\n",
        "    ## Load and pre-process an image from the given img_path\n",
        "    ## Return the *index* of the predicted class for that image\n",
        "    \n",
        "    return top_lab # predicted class index"
      ],
      "execution_count": 0,
      "outputs": []
    },
    {
      "metadata": {
        "id": "LrBzeq_uv2tC",
        "colab_type": "text"
      },
      "cell_type": "markdown",
      "source": [
        "### (IMPLEMENTATION) Write a Dog Detector\n",
        "\n",
        "While looking at the [dictionary](https://gist.github.com/yrevar/942d3a0ac09ec9e5eb3a), you will notice that the categories corresponding to dogs appear in an uninterrupted sequence and correspond to dictionary keys 151-268, inclusive, to include all categories from `'Chihuahua'` to `'Mexican hairless'`.  Thus, in order to check to see if an image is predicted to contain a dog by the pre-trained VGG-16 model, we need only check if the pre-trained model predicts an index between 151 and 268 (inclusive).\n",
        "\n",
        "Use these ideas to complete the `dog_detector` function below, which returns `True` if a dog is detected in an image (and `False` if not)."
      ]
    },
    {
      "metadata": {
        "colab_type": "code",
        "outputId": "f6b160eb-8564-4421-894b-99285b91b11e",
        "id": "fPyrXqrIx8Tk",
        "colab": {
          "base_uri": "https://localhost:8080/",
          "height": 34
        }
      },
      "cell_type": "code",
      "source": [
        "int(VGG16_predict('dogImages/train/001.Affenpinscher/Affenpinscher_00001.jpg'))"
      ],
      "execution_count": 11,
      "outputs": [
        {
          "output_type": "execute_result",
          "data": {
            "text/plain": [
              "252"
            ]
          },
          "metadata": {
            "tags": []
          },
          "execution_count": 11
        }
      ]
    },
    {
      "metadata": {
        "id": "0XkXttCzv2tD",
        "colab_type": "code",
        "colab": {}
      },
      "cell_type": "code",
      "source": [
        "### returns \"True\" if a dog is detected in the image stored at img_path\n",
        "def dog_detector(img_path):\n",
        "    pred = int(VGG16_predict(img_path))\n",
        "    if 150 < pred <269:\n",
        "      return True\n",
        "    else:    \n",
        "      return False "
      ],
      "execution_count": 0,
      "outputs": []
    },
    {
      "metadata": {
        "id": "MiJ9f9E8v2tE",
        "colab_type": "text"
      },
      "cell_type": "markdown",
      "source": [
        "### (IMPLEMENTATION) Assess the Dog Detector\n",
        "\n",
        "__Question 2:__ Use the code cell below to test the performance of your `dog_detector` function.  \n",
        "- What percentage of the images in `human_files_short` have a detected dog?  \n",
        "- What percentage of the images in `dog_files_short` have a detected dog?"
      ]
    },
    {
      "metadata": {
        "id": "cUBqH1MFv2tG",
        "colab_type": "text"
      },
      "cell_type": "markdown",
      "source": [
        "__Answer:__ \n"
      ]
    },
    {
      "metadata": {
        "id": "uXk5D382v2tH",
        "colab_type": "code",
        "outputId": "3218ac68-fa52-4ec2-f8ab-8a0452e8d22a",
        "colab": {
          "base_uri": "https://localhost:8080/",
          "height": 102
        }
      },
      "cell_type": "code",
      "source": [
        "### TODO: Test the performance of the dog_detector function\n",
        "### on the images in human_files_short and dog_files_short.\n",
        "from tqdm import tqdm\n",
        "\n",
        "human_files_short = human_files[:100]\n",
        "dog_files_short = dog_files[:100]\n",
        "\n",
        "count = []\n",
        "temp = 0\n",
        "for file in tqdm(human_files_short):\n",
        "  if dog_detector(file):\n",
        "    temp += 1\n",
        "count.append(temp)    \n",
        "\n",
        "temp = 0\n",
        "for file in tqdm(dog_files_short):\n",
        "  if dog_detector(file):\n",
        "    temp += 1\n",
        "count.append(temp)   \n",
        "    \n",
        "print('\\nPercentage of the first 100 images in human_files and dog_files that have a detected dog:\\n {}\\t{}'.format(count[0], count[1]))"
      ],
      "execution_count": 13,
      "outputs": [
        {
          "output_type": "stream",
          "text": [
            "100%|██████████| 100/100 [00:03<00:00, 30.22it/s]\n",
            "100%|██████████| 100/100 [00:04<00:00, 24.52it/s]"
          ],
          "name": "stderr"
        },
        {
          "output_type": "stream",
          "text": [
            "\n",
            "Percentage of the first 100 images in human_files and dog_files that have a detected dog:\n",
            " 0\t100\n"
          ],
          "name": "stdout"
        },
        {
          "output_type": "stream",
          "text": [
            "\n"
          ],
          "name": "stderr"
        }
      ]
    },
    {
      "metadata": {
        "id": "58OlsveIv2tO",
        "colab_type": "text"
      },
      "cell_type": "markdown",
      "source": [
        "---\n",
        "<a id='step3'></a>\n",
        "## Step 3: Create a CNN to Classify Dog Breeds (from Scratch)\n",
        "\n",
        "Now that we have functions for detecting humans and dogs in images, we need a way to predict breed from images.  In this step, you will create a CNN that classifies dog breeds.  You must create your CNN _from scratch_ (so, you can't use transfer learning _yet_!), and you must attain a test accuracy of at least 10%.  In Step 4 of this notebook, you will have the opportunity to use transfer learning to create a CNN that attains greatly improved accuracy.\n",
        "\n",
        "We mention that the task of assigning breed to dogs from images is considered exceptionally challenging.  To see why, consider that *even a human* would have trouble distinguishing between a Brittany and a Welsh Springer Spaniel.  \n",
        "\n",
        "Brittany | Welsh Springer Spaniel\n",
        "- | - \n",
        "<img src=\"https://github.com/pratyakshajha/deep-learning-v2-pytorch/blob/master/project-dog-classification/images/Brittany_02625.jpg?raw=1\" width=\"100\"> | <img src=\"https://github.com/pratyakshajha/deep-learning-v2-pytorch/blob/master/project-dog-classification/images/Welsh_springer_spaniel_08203.jpg?raw=1\" width=\"200\">\n",
        "\n",
        "It is not difficult to find other dog breed pairs with minimal inter-class variation (for instance, Curly-Coated Retrievers and American Water Spaniels).  \n",
        "\n",
        "Curly-Coated Retriever | American Water Spaniel\n",
        "- | -\n",
        "<img src=\"https://github.com/pratyakshajha/deep-learning-v2-pytorch/blob/master/project-dog-classification/images/Curly-coated_retriever_03896.jpg?raw=1\" width=\"200\"> | <img src=\"https://github.com/pratyakshajha/deep-learning-v2-pytorch/blob/master/project-dog-classification/images/American_water_spaniel_00648.jpg?raw=1\" width=\"200\">\n",
        "\n",
        "\n",
        "Likewise, recall that labradors come in yellow, chocolate, and black.  Your vision-based algorithm will have to conquer this high intra-class variation to determine how to classify all of these different shades as the same breed.  \n",
        "\n",
        "Yellow Labrador | Chocolate Labrador | Black Labrador\n",
        "- | -\n",
        "<img src=\"https://github.com/pratyakshajha/deep-learning-v2-pytorch/blob/master/project-dog-classification/images/Labrador_retriever_06457.jpg?raw=1\" width=\"150\"> | <img src=\"https://github.com/pratyakshajha/deep-learning-v2-pytorch/blob/master/project-dog-classification/images/Labrador_retriever_06455.jpg?raw=1\" width=\"240\"> | <img src=\"https://github.com/pratyakshajha/deep-learning-v2-pytorch/blob/master/project-dog-classification/images/Labrador_retriever_06449.jpg?raw=1\" width=\"220\">\n",
        "\n",
        "We also mention that random chance presents an exceptionally low bar: setting aside the fact that the classes are slightly imabalanced, a random guess will provide a correct answer roughly 1 in 133 times, which corresponds to an accuracy of less than 1%.  \n",
        "\n",
        "Remember that the practice is far ahead of the theory in deep learning.  Experiment with many different architectures, and trust your intuition.  And, of course, have fun!\n",
        "\n",
        "### (IMPLEMENTATION) Specify Data Loaders for the Dog Dataset\n",
        "\n",
        "Use the code cell below to write three separate [data loaders](http://pytorch.org/docs/stable/data.html#torch.utils.data.DataLoader) for the training, validation, and test datasets of dog images (located at `dogImages/train`, `dogImages/valid`, and `dogImages/test`, respectively).  You may find [this documentation on custom datasets](http://pytorch.org/docs/stable/torchvision/datasets.html) to be a useful resource.  If you are interested in augmenting your training and/or validation data, check out the wide variety of [transforms](http://pytorch.org/docs/stable/torchvision/transforms.html?highlight=transform)!"
      ]
    },
    {
      "metadata": {
        "id": "ap2vyzAJv2tO",
        "colab_type": "code",
        "colab": {}
      },
      "cell_type": "code",
      "source": [
        "import os\n",
        "from torchvision import datasets\n",
        "\n",
        "### TODO: Write data loaders for training, validation, and test sets\n",
        "## Specify appropriate transforms, and batch_sizes\n",
        "# Transforms for the training and validation sets\n",
        "\n",
        "data_transforms = {\n",
        "    'train': transforms.Compose([        \n",
        "        transforms.ColorJitter(brightness=.2, contrast=.2, saturation=.2),\n",
        "        transforms.RandomRotation(45),\n",
        "        transforms.RandomResizedCrop(224),\n",
        "        transforms.RandomHorizontalFlip(),\n",
        "        transforms.RandomVerticalFlip(),\n",
        "        transforms.ToTensor(),\n",
        "        transforms.Normalize([0.485, 0.456, 0.406], \n",
        "                             [0.229, 0.224, 0.225])\n",
        "    ]),\n",
        "    'valid': transforms.Compose([\n",
        "        transforms.Resize(256),\n",
        "        transforms.CenterCrop(224),\n",
        "        transforms.ToTensor(),\n",
        "        transforms.Normalize([0.485, 0.456, 0.406], \n",
        "                             [0.229, 0.224, 0.225])\n",
        "    ]),\n",
        "    'test': transforms.Compose([\n",
        "        transforms.Resize(256),\n",
        "        transforms.CenterCrop(224),\n",
        "        transforms.ToTensor(),\n",
        "        transforms.Normalize([0.485, 0.456, 0.406], \n",
        "                             [0.229, 0.224, 0.225])\n",
        "    ])\n",
        "}"
      ],
      "execution_count": 0,
      "outputs": []
    },
    {
      "metadata": {
        "id": "j_6Wrf__zEmu",
        "colab_type": "code",
        "colab": {}
      },
      "cell_type": "code",
      "source": [
        "dirs = {'train': 'dogImages/train', \n",
        "        'valid': 'dogImages/valid',\n",
        "        'test': 'dogImages/test'}\n",
        "\n",
        "image_datasets = {x: datasets.ImageFolder(dirs[x],   transform=data_transforms[x]) for x in ['train', 'valid', 'test']}\n",
        "loaders_scratch = {x: torch.utils.data.DataLoader(image_datasets[x], batch_size=64, shuffle=True) for x in ['train', 'valid', 'test']}\n",
        "dataset_sizes = {x: len(image_datasets[x]) \n",
        "                              for x in ['train', 'valid', 'test']}\n",
        "\n",
        "class_names = image_datasets['train'].classes"
      ],
      "execution_count": 0,
      "outputs": []
    },
    {
      "metadata": {
        "id": "f-YlxFcTv2tR",
        "colab_type": "text"
      },
      "cell_type": "markdown",
      "source": [
        "**Question 3:** Describe your chosen procedure for preprocessing the data. \n",
        "- How does your code resize the images (by cropping, stretching, etc)?  What size did you pick for the input tensor, and why?\n",
        "- Did you decide to augment the dataset?  If so, how (through translations, flips, rotations, etc)?  If not, why not?\n"
      ]
    },
    {
      "metadata": {
        "id": "keqHa3Miv2tS",
        "colab_type": "text"
      },
      "cell_type": "markdown",
      "source": [
        "**Answer**:"
      ]
    },
    {
      "metadata": {
        "id": "t6Kpm-h9v2tU",
        "colab_type": "text"
      },
      "cell_type": "markdown",
      "source": [
        "### (IMPLEMENTATION) Model Architecture\n",
        "\n",
        "Create a CNN to classify dog breed.  Use the template in the code cell below."
      ]
    },
    {
      "metadata": {
        "id": "-byQZkRiOoO5",
        "colab_type": "text"
      },
      "cell_type": "markdown",
      "source": [
        "![VGG Architecture](https://cdn-images-1.medium.com/max/1600/0*HREIJ1hjF7z4y9Dd.jpg)"
      ]
    },
    {
      "metadata": {
        "id": "ut7qPb_mv2tW",
        "colab_type": "code",
        "colab": {
          "base_uri": "https://localhost:8080/",
          "height": 204
        },
        "outputId": "3d026b32-66ff-4da5-cb53-77bba64f2b8a"
      },
      "cell_type": "code",
      "source": [
        "import torch.nn as nn\n",
        "import torch.nn.functional as F\n",
        "\n",
        "# define the CNN architecture\n",
        "class Net(nn.Module):\n",
        "    ### TODO: choose an architecture, and complete the class\n",
        "    def __init__(self):\n",
        "        super(Net, self).__init__()\n",
        "        ## Define layers of a CNN\n",
        "        # convolutional layer (sees 224x224x3 image tensor)\n",
        "        self.conv1 = nn.Conv2d(3, 16, 3, padding=1)\n",
        "        # convolutional layer (sees 112x112x112 tensor)\n",
        "        self.conv2 = nn.Conv2d(16, 16, 3, padding=1)\n",
        "        # convolutional layer (sees 56x56x56 tensor)\n",
        "        self.conv3 = nn.Conv2d(16, 32, 3, padding=1)\n",
        "        # convolutional layer (sees 28x28x28 tensor)\n",
        "        self.conv4 = nn.Conv2d(32, 64, 3, padding=1)\n",
        "        # max pooling layer\n",
        "        self.pool = nn.MaxPool2d(2, 2)\n",
        "        # linear layer (512 * 14 * 14 -> 4096)\n",
        "        self.fc1 = nn.Linear(64*14*14, 4096)\n",
        "        # linear layer (4096 -> 4096)\n",
        "        self.fc2 = nn.Linear(4096, 4096)\n",
        "        # linear layer (4096 -> number of classes)\n",
        "        self.fc3 = nn.Linear(4096, len(class_names))\n",
        "        # dropout layer (p=0.5)\n",
        "        self.dropout = nn.Dropout(0.5)\n",
        "    \n",
        "    def forward(self, x):\n",
        "        ## Define forward behavior\n",
        "        # add sequence of convolutional and max pooling layers        \n",
        "        x = self.pool(F.relu(self.conv1(x)))       \n",
        "        x = self.pool(F.relu(self.conv2(x)))\n",
        "        x = self.pool(F.relu(self.conv3(x)))\n",
        "        x = self.pool(F.relu(self.conv4(x)))\n",
        "        # flatten image input, size is depth of image in previous maxpool*depth of convolution\n",
        "        x = x.view(-1, 64*14*14)\n",
        "        # add dropout layer\n",
        "        x = self.dropout(x)\n",
        "        # add 1st hidden layer, with relu activation function\n",
        "        x = F.relu(self.fc1(x))\n",
        "        # add dropout layer\n",
        "        x = self.dropout(x)\n",
        "        # add 2nd hidden layer, with relu activation function\n",
        "        x = F.relu(self.fc2(x))\n",
        "        # add dropout layer\n",
        "        x = self.dropout(x)\n",
        "        # add 2nd hidden layer, with relu activation function\n",
        "        x = self.fc3(x)\n",
        "        return x\n",
        "\n",
        "#-#-# You do NOT have to modify the code below this line. #-#-#\n",
        "\n",
        "# instantiate the CNN\n",
        "model_scratch = Net()\n",
        "print(model_scratch)\n",
        "\n",
        "# move tensors to GPU if CUDA is available\n",
        "if use_cuda:\n",
        "    model_scratch.cuda()"
      ],
      "execution_count": 15,
      "outputs": [
        {
          "output_type": "stream",
          "text": [
            "Net(\n",
            "  (conv1): Conv2d(3, 16, kernel_size=(3, 3), stride=(1, 1), padding=(1, 1))\n",
            "  (conv2): Conv2d(16, 16, kernel_size=(3, 3), stride=(1, 1), padding=(1, 1))\n",
            "  (conv3): Conv2d(16, 32, kernel_size=(3, 3), stride=(1, 1), padding=(1, 1))\n",
            "  (conv4): Conv2d(32, 64, kernel_size=(3, 3), stride=(1, 1), padding=(1, 1))\n",
            "  (pool): MaxPool2d(kernel_size=2, stride=2, padding=0, dilation=1, ceil_mode=False)\n",
            "  (fc1): Linear(in_features=12544, out_features=4096, bias=True)\n",
            "  (fc2): Linear(in_features=4096, out_features=4096, bias=True)\n",
            "  (fc3): Linear(in_features=4096, out_features=133, bias=True)\n",
            "  (dropout): Dropout(p=0.5)\n",
            ")\n"
          ],
          "name": "stdout"
        }
      ]
    },
    {
      "metadata": {
        "id": "HkvlTH7Dv2tZ",
        "colab_type": "text"
      },
      "cell_type": "markdown",
      "source": [
        "__Question 4:__ Outline the steps you took to get to your final CNN architecture and your reasoning at each step.  "
      ]
    },
    {
      "metadata": {
        "id": "sD2ErvRhv2tb",
        "colab_type": "text"
      },
      "cell_type": "markdown",
      "source": [
        "__Answer:__ "
      ]
    },
    {
      "metadata": {
        "id": "AP5QPrvjv2tj",
        "colab_type": "text"
      },
      "cell_type": "markdown",
      "source": [
        "### (IMPLEMENTATION) Specify Loss Function and Optimizer\n",
        "\n",
        "Use the next code cell to specify a [loss function](http://pytorch.org/docs/stable/nn.html#loss-functions) and [optimizer](http://pytorch.org/docs/stable/optim.html).  Save the chosen loss function as `criterion_scratch`, and the optimizer as `optimizer_scratch` below."
      ]
    },
    {
      "metadata": {
        "id": "7Gp-OcGGv2tj",
        "colab_type": "code",
        "colab": {}
      },
      "cell_type": "code",
      "source": [
        "import torch.optim as optim\n",
        "\n",
        "### TODO: select loss function\n",
        "criterion_scratch = nn.CrossEntropyLoss()\n",
        "\n",
        "### TODO: select optimizer\n",
        "optimizer_scratch = optim.Adam(model_scratch.parameters(), lr=0.0001)"
      ],
      "execution_count": 0,
      "outputs": []
    },
    {
      "metadata": {
        "id": "U7wY_21mv2tl",
        "colab_type": "text"
      },
      "cell_type": "markdown",
      "source": [
        "### (IMPLEMENTATION) Train and Validate the Model\n",
        "\n",
        "Train and validate your model in the code cell below.  [Save the final model parameters](http://pytorch.org/docs/master/notes/serialization.html) at filepath `'model_scratch.pt'`."
      ]
    },
    {
      "metadata": {
        "colab_type": "code",
        "id": "w2ifvK9EdG1w",
        "colab": {}
      },
      "cell_type": "code",
      "source": [
        "all_losses = {'epoch': [],\n",
        "              'train': [],\n",
        "              'valid': [],\n",
        "              'test': []\n",
        "             }\n",
        "\n",
        "all_accuracies = {'epoch': [],\n",
        "                  'train': [],\n",
        "                  'valid': [],\n",
        "                  'test': []\n",
        "             }"
      ],
      "execution_count": 0,
      "outputs": []
    },
    {
      "metadata": {
        "colab_type": "code",
        "id": "I3PkoO9HdG1z",
        "colab": {}
      },
      "cell_type": "code",
      "source": [
        "import time\n",
        "import datetime\n",
        "\n",
        "def print_current_time():\n",
        "  \n",
        "  hours, mins, secs = str(datetime.datetime.now().time())[:-8].split(':')\n",
        "  hours, mins, secs = int(hours), int(mins), int(secs)\n",
        "\n",
        "  if (mins+30)<60:\n",
        "    hours = hours+5 \n",
        "    mins=mins+30 \n",
        "  else:\n",
        "    hours = hours+6 \n",
        "    mins = (mins+30) - 60\n",
        "    \n",
        "  print('Current time - {}:{}:{}'.format(hours, mins, secs)) "
      ],
      "execution_count": 0,
      "outputs": []
    },
    {
      "metadata": {
        "id": "dNNiYSCMv2tm",
        "colab_type": "code",
        "colab": {
          "base_uri": "https://localhost:8080/",
          "height": 391
        },
        "outputId": "bd66505f-561a-4355-cbdf-eb42f7f8d8d6"
      },
      "cell_type": "code",
      "source": [
        "# the following import is required for training to be robust to truncated images\n",
        "from PIL import ImageFile\n",
        "ImageFile.LOAD_TRUNCATED_IMAGES = True\n",
        "\n",
        "def train(n_epochs, loaders, model, optimizer, criterion, use_cuda, save_path):\n",
        "    \"\"\"returns trained model\"\"\"\n",
        "    # initialize tracker for minimum validation loss\n",
        "    valid_loss_min = np.Inf \n",
        "    print_current_time()       \n",
        "    \n",
        "    for epoch in range(1, n_epochs+1):\n",
        "        all_losses['epoch'].append(epoch)\n",
        "        all_accuracies['epoch'].append(epoch)\n",
        "        start_time = time.time()\n",
        "        print('-'*11)\n",
        "        print('Epoch: {}'.format(epoch))\n",
        "       \n",
        "        # initialize variables to monitor training and validation loss\n",
        "        train_loss = 0.0\n",
        "        valid_loss = 0.0\n",
        "        train_running_corrects = 0\n",
        "        valid_running_corrects = 0\n",
        "        \n",
        "        ###################\n",
        "        # train the model #\n",
        "        ###################\n",
        "        model.train()\n",
        "        for batch_idx, (data, target) in enumerate(loaders_scratch['train']):\n",
        "            # move to GPU\n",
        "            if use_cuda:\n",
        "                data, target = data.cuda(), target.cuda()\n",
        "            ## find the loss and update the model parameters accordingly\n",
        "            ## record the average training loss, using something like\n",
        "            ## train_loss = train_loss + ((1 / (batch_idx + 1)) * (loss.data - train_loss))\n",
        "                                \n",
        "            # clear the gradients of all optimized variables\n",
        "            optimizer_scratch.zero_grad()\n",
        "            # forward pass: compute predicted outputs by passing inputs to the model\n",
        "            outputs = model_scratch(data)\n",
        "            _, preds = torch.max(outputs, 1)\n",
        "            # calculate the batch loss\n",
        "            loss = criterion_scratch(outputs, target)\n",
        "            # backward pass: compute gradient of the loss with respect to model parameters\n",
        "            loss.backward()\n",
        "            # perform a single optimization step (parameter update)\n",
        "            optimizer_scratch.step()\n",
        "            # update training loss\n",
        "            train_loss += loss.item()*data.size(0)\n",
        "            train_running_corrects += torch.sum(preds == target.data)   \n",
        "            \n",
        "        ######################    \n",
        "        # validate the model #\n",
        "        ######################\n",
        "        model.eval()\n",
        "        for batch_idx, (data, target) in enumerate(loaders_scratch['valid']):\n",
        "            # move to GPU\n",
        "            if use_cuda:\n",
        "                data, target = data.cuda(), target.cuda()\n",
        "            ## update the average validation loss\n",
        "            # forward pass: compute predicted outputs by passing inputs to the model\n",
        "            outputs = model_scratch(data)\n",
        "            _, preds = torch.max(outputs, 1)\n",
        "            # calculate the batch loss\n",
        "            loss = criterion_scratch(outputs, target)\n",
        "            # update average validation loss \n",
        "            valid_loss += loss.item()*data.size(0)\n",
        "            valid_running_corrects += torch.sum(preds == target.data)\n",
        "            \n",
        "        # calculate average losses and accuracies\n",
        "        train_loss = train_loss/len(loaders_scratch['train'].dataset)\n",
        "        all_losses['train'].append(train_loss)\n",
        "        valid_loss = valid_loss/len(loaders_scratch['valid'].dataset)\n",
        "        all_losses['valid'].append(valid_loss)\n",
        "\n",
        "        train_acc = train_running_corrects.double()/len(loaders_scratch['train'].dataset)\n",
        "        all_accuracies['train'].append(train_acc)\n",
        "        valid_acc = valid_running_corrects.double()/len(loaders_scratch['valid'].dataset)\n",
        "        all_accuracies['valid'].append(valid_acc)\n",
        "        time_epoch = time.time() - start_time\n",
        "\n",
        "            \n",
        "        # print training/validation statistics \n",
        "        print('Training Loss: {:.6f} \\tValidation Loss: {:.6f}\\tTime: {:.0f}m {:.0f}s'.format(             \n",
        "            train_loss,\n",
        "            valid_loss,\n",
        "            time_epoch // 60, time_epoch % 60\n",
        "            ))\n",
        "        \n",
        "        ## TODO: save the model if validation loss has decreased\n",
        "        if valid_loss <= valid_loss_min:\n",
        "          print('Validation loss decreased ({:.6f} --> {:.6f}).  Saving model ...'.format(\n",
        "          valid_loss_min,\n",
        "          valid_loss))\n",
        "          torch.save(model_scratch.state_dict(), 'model_scratch.pt')\n",
        "          valid_loss_min = valid_loss       \n",
        "        \n",
        "    print()\n",
        "            \n",
        "    # return trained model\n",
        "    return model\n",
        "\n",
        "\n",
        "# train the model\n",
        "model_scratch = train(5, loaders_scratch, model_scratch, optimizer_scratch, \n",
        "                      criterion_scratch, use_cuda, 'model_scratch.pt')\n",
        "\n",
        "# load the model that got the best validation accuracy\n",
        "model_scratch.load_state_dict(torch.load('model_scratch.pt'))"
      ],
      "execution_count": 31,
      "outputs": [
        {
          "output_type": "stream",
          "text": [
            "Current time - 21:16:1\n",
            "-----------\n",
            "Epoch: 1\n",
            "Training Loss: 4.508392 \tValidation Loss: 4.356510\tTime: 4m 57s\n",
            "Validation loss decreased (inf --> 4.356510).  Saving model ...\n",
            "-----------\n",
            "Epoch: 2\n",
            "Training Loss: 4.469935 \tValidation Loss: 4.309982\tTime: 4m 59s\n",
            "Validation loss decreased (4.356510 --> 4.309982).  Saving model ...\n",
            "-----------\n",
            "Epoch: 3\n",
            "Training Loss: 4.438683 \tValidation Loss: 4.260014\tTime: 4m 60s\n",
            "Validation loss decreased (4.309982 --> 4.260014).  Saving model ...\n",
            "-----------\n",
            "Epoch: 4\n",
            "Training Loss: 4.397385 \tValidation Loss: 4.246950\tTime: 4m 57s\n",
            "Validation loss decreased (4.260014 --> 4.246950).  Saving model ...\n",
            "-----------\n",
            "Epoch: 5\n",
            "Training Loss: 4.374715 \tValidation Loss: 4.185556\tTime: 4m 55s\n",
            "Validation loss decreased (4.246950 --> 4.185556).  Saving model ...\n",
            "\n"
          ],
          "name": "stdout"
        }
      ]
    },
    {
      "metadata": {
        "id": "s8PDOmStv2to",
        "colab_type": "text"
      },
      "cell_type": "markdown",
      "source": [
        "### (IMPLEMENTATION) Test the Model\n",
        "\n",
        "Try out your model on the test dataset of dog images.  Use the code cell below to calculate and print the test loss and accuracy.  Ensure that your test accuracy is greater than 10%."
      ]
    },
    {
      "metadata": {
        "id": "J1YK5Oq-v2tp",
        "colab_type": "code",
        "colab": {
          "base_uri": "https://localhost:8080/",
          "height": 85
        },
        "outputId": "1a9832a5-534c-485d-81d4-5d10845dd576"
      },
      "cell_type": "code",
      "source": [
        "def test(loaders, model, criterion, use_cuda):\n",
        "\n",
        "    # monitor test loss and accuracy\n",
        "    test_loss = 0.\n",
        "    correct = 0.\n",
        "    total = 0.\n",
        "\n",
        "    model.eval()\n",
        "    for batch_idx, (data, target) in enumerate(loaders['test']):\n",
        "        # move to GPU\n",
        "        if use_cuda:\n",
        "            data, target = data.cuda(), target.cuda()\n",
        "        # forward pass: compute predicted outputs by passing inputs to the model\n",
        "        output = model(data)\n",
        "        # calculate the loss\n",
        "        loss = criterion(output, target)\n",
        "        # update average test loss \n",
        "        test_loss = test_loss + ((1 / (batch_idx + 1)) * (loss.data - test_loss))\n",
        "        # convert output probabilities to predicted class\n",
        "        pred = output.data.max(1, keepdim=True)[1]\n",
        "        # compare predictions to true label\n",
        "        correct += np.sum(np.squeeze(pred.eq(target.data.view_as(pred))).cpu().numpy())\n",
        "        total += data.size(0)\n",
        "            \n",
        "    print('Test Loss: {:.6f}\\n'.format(test_loss))\n",
        "\n",
        "    print('\\nTest Accuracy: %2d%% (%2d/%2d)' % (\n",
        "        100. * correct / total, correct, total))\n",
        "\n",
        "# call test function    \n",
        "test(loaders_scratch, model_scratch, criterion_scratch, use_cuda)"
      ],
      "execution_count": 32,
      "outputs": [
        {
          "output_type": "stream",
          "text": [
            "Test Loss: 4.177025\n",
            "\n",
            "\n",
            "Test Accuracy:  6% (56/836)\n"
          ],
          "name": "stdout"
        }
      ]
    },
    {
      "metadata": {
        "id": "ky2qeIy-v2ts",
        "colab_type": "text"
      },
      "cell_type": "markdown",
      "source": [
        "---\n",
        "<a id='step4'></a>\n",
        "## Step 4: Create a CNN to Classify Dog Breeds (using Transfer Learning)\n",
        "\n",
        "You will now use transfer learning to create a CNN that can identify dog breed from images.  Your CNN must attain at least 60% accuracy on the test set.\n",
        "\n",
        "### (IMPLEMENTATION) Specify Data Loaders for the Dog Dataset\n",
        "\n",
        "Use the code cell below to write three separate [data loaders](http://pytorch.org/docs/master/data.html#torch.utils.data.DataLoader) for the training, validation, and test datasets of dog images (located at `dogImages/train`, `dogImages/valid`, and `dogImages/test`, respectively). \n",
        "\n",
        "If you like, **you are welcome to use the same data loaders from the previous step**, when you created a CNN from scratch."
      ]
    },
    {
      "metadata": {
        "colab_type": "code",
        "id": "rukUbszNz6D7",
        "colab": {}
      },
      "cell_type": "code",
      "source": [
        "import os\n",
        "from torchvision import datasets\n",
        "\n",
        "### TODO: Write data loaders for training, validation, and test sets\n",
        "## Specify appropriate transforms, and batch_sizes\n",
        "# Transforms for the training and validation sets\n",
        "\n",
        "data_transforms = {\n",
        "    'train': transforms.Compose([        \n",
        "        transforms.ColorJitter(brightness=.2, contrast=.2, saturation=.2),\n",
        "        transforms.RandomRotation(45),\n",
        "        transforms.RandomResizedCrop(224),\n",
        "        transforms.RandomHorizontalFlip(),\n",
        "        transforms.RandomVerticalFlip(),\n",
        "        transforms.ToTensor(),\n",
        "        transforms.Normalize([0.485, 0.456, 0.406], \n",
        "                             [0.229, 0.224, 0.225])\n",
        "    ]),\n",
        "    'valid': transforms.Compose([\n",
        "        transforms.Resize(256),\n",
        "        transforms.CenterCrop(224),\n",
        "        transforms.ToTensor(),\n",
        "        transforms.Normalize([0.485, 0.456, 0.406], \n",
        "                             [0.229, 0.224, 0.225])\n",
        "    ]),\n",
        "    'test': transforms.Compose([\n",
        "        transforms.Resize(256),\n",
        "        transforms.CenterCrop(224),\n",
        "        transforms.ToTensor(),\n",
        "        transforms.Normalize([0.485, 0.456, 0.406], \n",
        "                             [0.229, 0.224, 0.225])\n",
        "    ])\n",
        "}"
      ],
      "execution_count": 0,
      "outputs": []
    },
    {
      "metadata": {
        "colab_type": "code",
        "id": "IrTtB-irz6D-",
        "colab": {}
      },
      "cell_type": "code",
      "source": [
        "dirs = {'train': 'dogImages/train', \n",
        "        'valid': 'dogImages/valid',\n",
        "        'test': 'dogImages/test'}\n",
        "\n",
        "image_datasets = {x: datasets.ImageFolder(dirs[x],   transform=data_transforms[x]) for x in ['train', 'valid', 'test']}\n",
        "dataloaders = {x: torch.utils.data.DataLoader(image_datasets[x], batch_size=64, shuffle=True) for x in ['train', 'valid', 'test']}\n",
        "dataset_sizes = {x: len(image_datasets[x]) \n",
        "                              for x in ['train', 'valid', 'test']}\n",
        "\n",
        "class_names = image_datasets['train'].classes"
      ],
      "execution_count": 0,
      "outputs": []
    },
    {
      "metadata": {
        "id": "KqkjOziwv2tu",
        "colab_type": "text"
      },
      "cell_type": "markdown",
      "source": [
        "### (IMPLEMENTATION) Model Architecture\n",
        "\n",
        "Use transfer learning to create a CNN to classify dog breed.  Use the code cell below, and save your initialized model as the variable `model_transfer`."
      ]
    },
    {
      "metadata": {
        "id": "VnNYVo6Uv2tv",
        "colab_type": "code",
        "outputId": "e066f190-5d71-4dcb-eeac-f8de2c87db6a",
        "colab": {
          "base_uri": "https://localhost:8080/",
          "height": 71
        }
      },
      "cell_type": "code",
      "source": [
        "import torchvision.models as models\n",
        "import torch.nn as nn\n",
        "from collections import OrderedDict\n",
        "\n",
        "## TODO: Specify model architecture \n",
        "# Load the pretrained model from pytorch\n",
        "model_transfer = models.densenet201(pretrained=True)\n",
        "\n",
        "if use_cuda:\n",
        "    model_transfer = model_transfer.cuda()\n",
        "    \n",
        "classifier = nn.Sequential(OrderedDict([\n",
        "                          ('fc1', nn.Linear(model_transfer.classifier.in_features, model_transfer.classifier.out_features)),\n",
        "                          ('relu', nn.ReLU()),                          \n",
        "                          ('fc2', nn.Linear(model_transfer.classifier.out_features, len(class_names))),\n",
        "                          ('output', nn.LogSoftmax(dim=1))\n",
        "                          ]))  \n",
        "\n",
        "# Freeze training for all \"features\" layers\n",
        "for param in model_transfer.features.parameters():\n",
        "    param.requires_grad = False\n",
        "    \n",
        "model_transfer.classifier = classifier"
      ],
      "execution_count": 0,
      "outputs": [
        {
          "output_type": "stream",
          "text": [
            "/usr/local/lib/python3.6/dist-packages/torchvision/models/densenet.py:212: UserWarning: nn.init.kaiming_normal is now deprecated in favor of nn.init.kaiming_normal_.\n",
            "  nn.init.kaiming_normal(m.weight.data)\n"
          ],
          "name": "stderr"
        }
      ]
    },
    {
      "metadata": {
        "id": "Ek5RnTWEv2tz",
        "colab_type": "text"
      },
      "cell_type": "markdown",
      "source": [
        "__Question 5:__ Outline the steps you took to get to your final CNN architecture and your reasoning at each step.  Describe why you think the architecture is suitable for the current problem."
      ]
    },
    {
      "metadata": {
        "id": "2gpmr01sv2t0",
        "colab_type": "text"
      },
      "cell_type": "markdown",
      "source": [
        "__Answer:__ \n"
      ]
    },
    {
      "metadata": {
        "id": "iODB8cfDv2t0",
        "colab_type": "text"
      },
      "cell_type": "markdown",
      "source": [
        "### (IMPLEMENTATION) Specify Loss Function and Optimizer\n",
        "\n",
        "Use the next code cell to specify a [loss function](http://pytorch.org/docs/master/nn.html#loss-functions) and [optimizer](http://pytorch.org/docs/master/optim.html).  Save the chosen loss function as `criterion_transfer`, and the optimizer as `optimizer_transfer` below."
      ]
    },
    {
      "metadata": {
        "id": "Q5b-hiLvv2t3",
        "colab_type": "code",
        "colab": {}
      },
      "cell_type": "code",
      "source": [
        "from torch import nn, optim\n",
        "from torch.optim import lr_scheduler\n",
        "\n",
        "criterion_transfer = nn.CrossEntropyLoss()\n",
        "optimizer_transfer = optim.Adam(model_transfer.classifier.parameters(), lr=0.001)\n",
        "\n",
        "# Decay LR by a factor of 0.1 every 4 epochs\n",
        "scheduler_transfer = lr_scheduler.StepLR(optimizer_transfer, step_size = 3, gamma=0.001)"
      ],
      "execution_count": 0,
      "outputs": []
    },
    {
      "metadata": {
        "id": "YVWvrplev2t5",
        "colab_type": "text"
      },
      "cell_type": "markdown",
      "source": [
        "### (IMPLEMENTATION) Train and Validate the Model\n",
        "\n",
        "Train and validate your model in the code cell below.  [Save the final model parameters](http://pytorch.org/docs/master/notes/serialization.html) at filepath `'model_transfer.pt'`."
      ]
    },
    {
      "metadata": {
        "id": "vcvNH0f01hBC",
        "colab_type": "code",
        "colab": {}
      },
      "cell_type": "code",
      "source": [
        "all_losses = {'epoch': [],\n",
        "              'train': [],\n",
        "              'valid': [],\n",
        "              'test': []\n",
        "             }\n",
        "\n",
        "all_accuracies = {'epoch': [],\n",
        "                  'train': [],\n",
        "                  'valid': [],\n",
        "                  'test': []\n",
        "             }"
      ],
      "execution_count": 0,
      "outputs": []
    },
    {
      "metadata": {
        "id": "vhd_HesF2vUw",
        "colab_type": "code",
        "colab": {}
      },
      "cell_type": "code",
      "source": [
        "import time\n",
        "import datetime\n",
        "\n",
        "def print_current_time():\n",
        "  \n",
        "  hours, mins, secs = str(datetime.datetime.now().time())[:-8].split(':')\n",
        "  hours, mins, secs = int(hours), int(mins), int(secs)\n",
        "\n",
        "  if (mins+30)<60:\n",
        "    hours = hours+5 \n",
        "    mins=mins+30 \n",
        "  else:\n",
        "    hours = hours+6 \n",
        "    mins = (mins+30) - 60\n",
        "    \n",
        "  print('Current time - {}:{}:{}'.format(hours, mins, secs)) "
      ],
      "execution_count": 0,
      "outputs": []
    },
    {
      "metadata": {
        "id": "toZcS8W6123M",
        "colab_type": "code",
        "outputId": "4636f90f-f2a3-4552-8aa1-4d89f0b61d37",
        "colab": {
          "base_uri": "https://localhost:8080/",
          "height": 231
        }
      },
      "cell_type": "code",
      "source": [
        "# train the model\n",
        "\n",
        "# number of epochs to train the model\n",
        "n_epochs = 10\n",
        "\n",
        "model_transfer.cuda()\n",
        "valid_loss_min = np.Inf # track change in validation loss\n",
        "print_current_time()\n",
        "\n",
        "for epoch in range(1, n_epochs+1):    \n",
        "    all_losses['epoch'].append(epoch)\n",
        "    all_accuracies['epoch'].append(epoch)\n",
        "    start_time = time.time()\n",
        "    print('-'*11)\n",
        "    print('Epoch: {}'.format(epoch))\n",
        "\n",
        "    # keep track of training and validation loss\n",
        "    train_loss = 0.0\n",
        "    valid_loss = 0.0\n",
        "    train_running_corrects = 0\n",
        "    valid_running_corrects = 0\n",
        "    \n",
        "    ###################\n",
        "    # train the model #\n",
        "    ###################\n",
        "    model_transfer.train()\n",
        "    for inputs, target in dataloaders['train']:\n",
        "        # move tensors to GPU if CUDA is available\n",
        "        inputs, target = inputs.cuda(), target.cuda()\n",
        "        # clear the gradients of all optimized variables\n",
        "        optimizer_transfer.zero_grad()\n",
        "        # forward pass: compute predicted outputs by passing inputs to the model\n",
        "        outputs = model_transfer(inputs)\n",
        "        _, preds = torch.max(outputs, 1)\n",
        "        # calculate the batch loss\n",
        "        loss = criterion_transfer(outputs, target)\n",
        "        # backward pass: compute gradient of the loss with respect to model parameters\n",
        "        loss.backward()\n",
        "        # perform a single optimization step (parameter update)\n",
        "        optimizer_transfer.step()\n",
        "        # update training loss\n",
        "        train_loss += loss.item()*inputs.size(0)\n",
        "        train_running_corrects += torch.sum(preds == target.data)        \n",
        "        \n",
        "    ######################    \n",
        "    # validate the model #\n",
        "    ######################\n",
        "    model_transfer.eval()\n",
        "    for inputs, target in dataloaders['valid']:\n",
        "        # move tensors to GPU if CUDA is available\n",
        "        inputs, target = inputs.cuda(), target.cuda()\n",
        "        # forward pass: compute predicted outputs by passing inputs to the model\n",
        "        outputs = model_transfer(inputs)\n",
        "        _, preds = torch.max(outputs, 1)\n",
        "        # calculate the batch loss\n",
        "        loss = criterion_transfer(outputs, target)\n",
        "        # update average validation loss \n",
        "        valid_loss += loss.item()*inputs.size(0)\n",
        "        valid_running_corrects += torch.sum(preds == target.data)\n",
        "    \n",
        "    # calculate average losses and accuracies\n",
        "    train_loss = train_loss/len(dataloaders['train'].dataset)\n",
        "    all_losses['train'].append(train_loss)\n",
        "    valid_loss = valid_loss/len(dataloaders['valid'].dataset)\n",
        "    all_losses['valid'].append(valid_loss)\n",
        "    \n",
        "    train_acc = train_running_corrects.double()/len(dataloaders['train'].dataset)\n",
        "    all_accuracies['train'].append(train_acc)\n",
        "    valid_acc = valid_running_corrects.double()/len(dataloaders['valid'].dataset)\n",
        "    all_accuracies['valid'].append(valid_acc)\n",
        "    time_epoch = time.time() - start_time\n",
        "        \n",
        "    # print training/validation statistics \n",
        "    print('Training Loss: {:.6f} \\tValidation Loss: {:.6f}'.format(\n",
        "        train_loss, valid_loss))\n",
        "    print('Training Accuracy: {:.6f} \\tValidation Accuracy: {:.6f}'.format(\n",
        "        train_acc, valid_acc))\n",
        "    print_current_time()\n",
        "    print('Epoch Time: {:.0f}m {:.0f}s'.format(\n",
        "              time_epoch // 60, time_epoch % 60))\n",
        "    \n",
        "    # save model if validation loss has decreased\n",
        "    if valid_loss <= valid_loss_min:\n",
        "        print('Validation loss decreased ({:.6f} --> {:.6f}).  Saving model ...'.format(\n",
        "        valid_loss_min,\n",
        "        valid_loss))\n",
        "        torch.save(model_transfer.state_dict(), 'model_transfer.pth')\n",
        "        valid_loss_min = valid_loss       \n",
        "        \n",
        "    print()"
      ],
      "execution_count": 15,
      "outputs": [
        {
          "output_type": "error",
          "ename": "NameError",
          "evalue": "ignored",
          "traceback": [
            "\u001b[0;31m---------------------------------------------------------------------------\u001b[0m",
            "\u001b[0;31mNameError\u001b[0m                                 Traceback (most recent call last)",
            "\u001b[0;32m<ipython-input-15-e43ea34e9f10>\u001b[0m in \u001b[0;36m<module>\u001b[0;34m()\u001b[0m\n\u001b[1;32m      1\u001b[0m \u001b[0mn_epochs\u001b[0m \u001b[0;34m=\u001b[0m \u001b[0;36m10\u001b[0m\u001b[0;34m\u001b[0m\u001b[0;34m\u001b[0m\u001b[0m\n\u001b[1;32m      2\u001b[0m \u001b[0;34m\u001b[0m\u001b[0m\n\u001b[0;32m----> 3\u001b[0;31m \u001b[0mmodel_transfer\u001b[0m\u001b[0;34m.\u001b[0m\u001b[0mcuda\u001b[0m\u001b[0;34m(\u001b[0m\u001b[0;34m)\u001b[0m\u001b[0;34m\u001b[0m\u001b[0;34m\u001b[0m\u001b[0m\n\u001b[0m\u001b[1;32m      4\u001b[0m \u001b[0mvalid_loss_min\u001b[0m \u001b[0;34m=\u001b[0m \u001b[0mnp\u001b[0m\u001b[0;34m.\u001b[0m\u001b[0mInf\u001b[0m \u001b[0;31m# track change in validation loss\u001b[0m\u001b[0;34m\u001b[0m\u001b[0;34m\u001b[0m\u001b[0m\n\u001b[1;32m      5\u001b[0m \u001b[0mprint_current_time\u001b[0m\u001b[0;34m(\u001b[0m\u001b[0;34m)\u001b[0m\u001b[0;34m\u001b[0m\u001b[0;34m\u001b[0m\u001b[0m\n",
            "\u001b[0;31mNameError\u001b[0m: name 'model_transfer' is not defined"
          ]
        }
      ]
    },
    {
      "metadata": {
        "id": "v9VfJFih1uLt",
        "colab_type": "code",
        "colab": {}
      },
      "cell_type": "code",
      "source": [
        "# load the model that got the best validation accuracy (uncomment the line below)\n",
        "model_transfer.load_state_dict(torch.load('model_transfer.pth'))"
      ],
      "execution_count": 0,
      "outputs": []
    },
    {
      "metadata": {
        "id": "ODV5DskHv2t8",
        "colab_type": "text"
      },
      "cell_type": "markdown",
      "source": [
        "### (IMPLEMENTATION) Test the Model\n",
        "\n",
        "Try out your model on the test dataset of dog images. Use the code cell below to calculate and print the test loss and accuracy.  Ensure that your test accuracy is greater than 60%."
      ]
    },
    {
      "metadata": {
        "id": "FIO7lEKjv2t9",
        "colab_type": "code",
        "outputId": "8db38bfd-d7cd-4125-a720-8a2040f0dde7",
        "colab": {
          "base_uri": "https://localhost:8080/",
          "height": 102
        }
      },
      "cell_type": "code",
      "source": [
        "# test the model\n",
        "\n",
        "print_current_time()\n",
        "# keep track of training and validation loss\n",
        "test_loss = 0.0\n",
        "test_running_corrects = 0\n",
        "\n",
        "######################    \n",
        "# test the model #\n",
        "######################\n",
        "model_transfer.eval()\n",
        "for inputs, target in dataloaders['test']:\n",
        "    # move tensors to GPU if CUDA is available\n",
        "    inputs, target = inputs.cuda(), target.cuda()\n",
        "    # forward pass: compute predicted outputs by passing inputs to the model\n",
        "    outputs = model_transfer(inputs)\n",
        "    _, preds = torch.max(outputs, 1)\n",
        "    # calculate the batch loss\n",
        "    loss = criterion_transfer(outputs, target)\n",
        "    # update average validation loss \n",
        "    test_loss += loss.item()*inputs.size(0)\n",
        "    test_running_corrects += torch.sum(preds == target.data)\n",
        "\n",
        "# calculate average loss and accuracy\n",
        "test_loss = test_loss/len(dataloaders['test'].dataset)\n",
        "all_losses['test'].append(test_loss)\n",
        "\n",
        "test_acc = test_running_corrects.double()/len(dataloaders['test'].dataset)\n",
        "all_accuracies['test'].append(test_acc)\n",
        "time_epoch = time.time() - start_time\n",
        "\n",
        "# print training/validation statistics \n",
        "print('Test Loss: {:.6f}'.format(test_loss))\n",
        "print('Test Accuracy: {:.6f}'.format(test_acc))\n",
        "print_current_time()\n",
        "print('Epoch Time: {:.0f}m {:.0f}s'.format(\n",
        "          time_epoch // 60, time_epoch % 60))"
      ],
      "execution_count": 0,
      "outputs": [
        {
          "output_type": "stream",
          "text": [
            "Current time - 17:39:2\n",
            "Test Loss: 0.531213\n",
            "Test Accuracy: 0.818182\n",
            "Current time - 17:39:4\n",
            "Epoch Time: 8m 23s\n"
          ],
          "name": "stdout"
        }
      ]
    },
    {
      "metadata": {
        "id": "TCacKl8iv2uC",
        "colab_type": "text"
      },
      "cell_type": "markdown",
      "source": [
        "### (IMPLEMENTATION) Predict Dog Breed with the Model\n",
        "\n",
        "Write a function that takes an image path as input and returns the dog breed (`Affenpinscher`, `Afghan hound`, etc) that is predicted by your model.  "
      ]
    },
    {
      "metadata": {
        "id": "x0F_osUHv2uD",
        "colab_type": "code",
        "colab": {}
      },
      "cell_type": "code",
      "source": [
        "### TODO: Write a function that takes a path to an image as input\n",
        "### and returns the dog breed that is predicted by the model.\n",
        "\n",
        "# list of class names by index, i.e. a name can be accessed like class_names[0]\n",
        "class_names = [item[4:].replace(\"_\", \" \") for item in class_names]\n",
        "\n",
        "def predict_breed_transfer(img_path):\n",
        "    # load the image and return the predicted breed\n",
        "    # Process image\n",
        "    img = process_image(img_path) \n",
        "    img = torch.from_numpy(img).type(torch.FloatTensor) \n",
        "    img.unsqueeze_(0)\n",
        "    img = img.cuda()\n",
        "\n",
        "    # Predict top label\n",
        "    probs = torch.exp(model_transfer.forward(img)) \n",
        "    top_prob, top_lab = probs.topk(1)     \n",
        "    return class_names[int(top_lab)]"
      ],
      "execution_count": 0,
      "outputs": []
    },
    {
      "metadata": {
        "id": "FjboU4VLv2uG",
        "colab_type": "text"
      },
      "cell_type": "markdown",
      "source": [
        "---\n",
        "<a id='step5'></a>\n",
        "## Step 5: Write your Algorithm\n",
        "\n",
        "Write an algorithm that accepts a file path to an image and first determines whether the image contains a human, dog, or neither.  Then,\n",
        "- if a __dog__ is detected in the image, return the predicted breed.\n",
        "- if a __human__ is detected in the image, return the resembling dog breed.\n",
        "- if __neither__ is detected in the image, provide output that indicates an error.\n",
        "\n",
        "You are welcome to write your own functions for detecting humans and dogs in images, but feel free to use the `face_detector` and `dog_detector` functions developed above.  You are __required__ to use your CNN from Step 4 to predict dog breed.  \n",
        "\n",
        "Some sample output for our algorithm is provided below, but feel free to design your own user experience!\n",
        "\n",
        "![Sample Human Output](https://github.com/pratyakshajha/deep-learning-v2-pytorch/blob/master/project-dog-classification/images/sample_human_output.png?raw=1)\n",
        "\n",
        "\n",
        "### (IMPLEMENTATION) Write your Algorithm"
      ]
    },
    {
      "metadata": {
        "id": "3Tgd9Qnfv2uG",
        "colab_type": "code",
        "colab": {}
      },
      "cell_type": "code",
      "source": [
        "### TODO: Write your algorithm.\n",
        "### Feel free to use as many code cells as needed.\n",
        "\n",
        "def run_app(img_path):\n",
        "    ## handle cases for a human face, dog, and neither\n",
        "    if face_detector(img_path):\n",
        "      return predict_breed_transfer(img_path)\n",
        "    \n",
        "    elif dog_detector(img_path):\n",
        "      return predict_breed_transfer(img_path)\n",
        "    \n",
        "    else:\n",
        "      return 'Error'\n"
      ],
      "execution_count": 0,
      "outputs": []
    },
    {
      "metadata": {
        "id": "r4ofrSg4v2uI",
        "colab_type": "text"
      },
      "cell_type": "markdown",
      "source": [
        "---\n",
        "<a id='step6'></a>\n",
        "## Step 6: Test Your Algorithm\n",
        "\n",
        "In this section, you will take your new algorithm for a spin!  What kind of dog does the algorithm think that _you_ look like?  If you have a dog, does it predict your dog's breed accurately?  If you have a cat, does it mistakenly think that your cat is a dog?\n",
        "\n",
        "### (IMPLEMENTATION) Test Your Algorithm on Sample Images!\n",
        "\n",
        "Test your algorithm at least six images on your computer.  Feel free to use any images you like.  Use at least two human and two dog images.  \n",
        "\n",
        "__Question 6:__ Is the output better than you expected :) ?  Or worse :( ?  Provide at least three possible points of improvement for your algorithm."
      ]
    },
    {
      "metadata": {
        "id": "qJdFK2wOv2uI",
        "colab_type": "text"
      },
      "cell_type": "markdown",
      "source": [
        "__Answer:__ (Three possible points for improvement)"
      ]
    },
    {
      "metadata": {
        "id": "fyC8eBqdIjA-",
        "colab_type": "code",
        "outputId": "b683788e-1d69-436d-a702-e70ddafc003a",
        "colab": {
          "base_uri": "https://localhost:8080/",
          "height": 598
        }
      },
      "cell_type": "code",
      "source": [
        "# download images\n",
        "!wget https://upload.wikimedia.org/wikipedia/commons/a/ae/Alia_Bhatt_2016.jpg -O alia.jpg\n",
        "!wget https://cdn0.wideopenpets.com/wp-content/uploads/2018/03/Akita-770x405.jpg -O dog.jpg\n",
        "!wget https://i1.wp.com/4f7bg01yl3z03jojs41hgo8k-wpengine.netdna-ssl.com/wp-content/uploads/2016/10/HF160920_Global_Blog_All_About_Apples_15_low.jpg?ssl=1 -O apple.jpg"
      ],
      "execution_count": 0,
      "outputs": [
        {
          "output_type": "stream",
          "text": [
            "--2019-02-22 12:35:49--  https://upload.wikimedia.org/wikipedia/commons/a/ae/Alia_Bhatt_2016.jpg\n",
            "Resolving upload.wikimedia.org (upload.wikimedia.org)... 208.80.154.240, 2620:0:861:ed1a::2:b\n",
            "Connecting to upload.wikimedia.org (upload.wikimedia.org)|208.80.154.240|:443... connected.\n",
            "HTTP request sent, awaiting response... 200 OK\n",
            "Length: 153625 (150K) [image/jpeg]\n",
            "Saving to: ‘alia.jpg’\n",
            "\n",
            "\ralia.jpg              0%[                    ]       0  --.-KB/s               \ralia.jpg            100%[===================>] 150.02K  --.-KB/s    in 0.08s   \n",
            "\n",
            "2019-02-22 12:35:49 (1.95 MB/s) - ‘alia.jpg’ saved [153625/153625]\n",
            "\n",
            "--2019-02-22 12:35:51--  https://cdn0.wideopenpets.com/wp-content/uploads/2018/03/Akita-770x405.jpg\n",
            "Resolving cdn0.wideopenpets.com (cdn0.wideopenpets.com)... 104.25.233.5, 104.25.232.5, 2606:4700:20::6819:e805, ...\n",
            "Connecting to cdn0.wideopenpets.com (cdn0.wideopenpets.com)|104.25.233.5|:443... connected.\n",
            "HTTP request sent, awaiting response... 200 OK\n",
            "Length: 37648 (37K) [image/jpeg]\n",
            "Saving to: ‘dog.jpg’\n",
            "\n",
            "dog.jpg             100%[===================>]  36.77K  --.-KB/s    in 0.008s  \n",
            "\n",
            "2019-02-22 12:35:51 (4.74 MB/s) - ‘dog.jpg’ saved [37648/37648]\n",
            "\n",
            "--2019-02-22 12:35:53--  https://i1.wp.com/4f7bg01yl3z03jojs41hgo8k-wpengine.netdna-ssl.com/wp-content/uploads/2016/10/HF160920_Global_Blog_All_About_Apples_15_low.jpg?ssl=1\n",
            "Resolving i1.wp.com (i1.wp.com)... 192.0.77.2\n",
            "Connecting to i1.wp.com (i1.wp.com)|192.0.77.2|:443... connected.\n",
            "HTTP request sent, awaiting response... 200 OK\n",
            "Length: 1043569 (1019K) [image/jpeg]\n",
            "Saving to: ‘apple.jpg’\n",
            "\n",
            "apple.jpg           100%[===================>]   1019K  --.-KB/s    in 0.1s    \n",
            "\n",
            "2019-02-22 12:35:53 (6.77 MB/s) - ‘apple.jpg’ saved [1043569/1043569]\n",
            "\n"
          ],
          "name": "stdout"
        }
      ]
    },
    {
      "metadata": {
        "id": "XtQ6e7GOv2uJ",
        "colab_type": "code",
        "outputId": "ba9e5b4d-17c0-46a8-82ba-b2a5bef37a4b",
        "colab": {
          "base_uri": "https://localhost:8080/",
          "height": 170
        }
      },
      "cell_type": "code",
      "source": [
        "## TODO: Execute your algorithm from Step 6 on\n",
        "## at least 6 images on your computer.\n",
        "## Feel free to use as many code cells as needed.\n",
        "\n",
        "## suggested code, below\n",
        "for file in np.hstack((human_files[:3], dog_files[:3])):\n",
        "    print(run_app(file))\n",
        "    \n",
        "print(run_app('alia.jpg'))\n",
        "print(run_app('dog.jpg'))\n",
        "print(run_app('apple.jpg'))"
      ],
      "execution_count": 0,
      "outputs": [
        {
          "output_type": "stream",
          "text": [
            "Afghan hound\n",
            "Xoloitzcuintli\n",
            "Bull terrier\n",
            "Tibetan mastiff\n",
            "Tibetan mastiff\n",
            "Tibetan mastiff\n",
            "Bearded collie\n",
            "Akita\n",
            "Error\n"
          ],
          "name": "stdout"
        }
      ]
    },
    {
      "metadata": {
        "id": "nEERCxQAMXQP",
        "colab_type": "code",
        "colab": {}
      },
      "cell_type": "code",
      "source": [
        "class_names = image_datasets['train'].classes"
      ],
      "execution_count": 0,
      "outputs": []
    },
    {
      "metadata": {
        "id": "mL9OV08LOLxG",
        "colab_type": "code",
        "colab": {}
      },
      "cell_type": "code",
      "source": [
        ""
      ],
      "execution_count": 0,
      "outputs": []
    }
  ]
}